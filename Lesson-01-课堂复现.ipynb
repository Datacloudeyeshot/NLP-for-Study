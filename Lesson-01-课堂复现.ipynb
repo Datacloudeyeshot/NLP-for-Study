{
 "cells": [
  {
   "cell_type": "code",
   "execution_count": 16,
   "metadata": {},
   "outputs": [],
   "source": [
    "import random"
   ]
  },
  {
   "cell_type": "code",
   "execution_count": 15,
   "metadata": {},
   "outputs": [],
   "source": [
    "hello_to_someone = '''\n",
    "say_hello = names hello \n",
    "names = name names | name \n",
    "name = 张三 | 李四 | Jhon\n",
    "hello = 您好 | 你来了 | 进来坐 \n",
    "tail = 呀 | ！\n",
    "'''"
   ]
  },
  {
   "cell_type": "code",
   "execution_count": 4,
   "metadata": {},
   "outputs": [],
   "source": [
    "def name():\n",
    "    return random.choice('张三 | 李四 | Jhon'.split('|'))"
   ]
  },
  {
   "cell_type": "code",
   "execution_count": 5,
   "metadata": {},
   "outputs": [],
   "source": [
    "def hello():\n",
    "    return random.choice('您好 | 你来了 | 进来坐'.split('|'))"
   ]
  },
  {
   "cell_type": "code",
   "execution_count": 6,
   "metadata": {},
   "outputs": [],
   "source": [
    "def say_hello():\n",
    "    return name() + ' ' + hello()"
   ]
  },
  {
   "cell_type": "code",
   "execution_count": 14,
   "metadata": {},
   "outputs": [
    {
     "data": {
      "text/plain": [
       "'张三  您好 '"
      ]
     },
     "execution_count": 14,
     "metadata": {},
     "output_type": "execute_result"
    }
   ],
   "source": [
    "say_hello()"
   ]
  },
  {
   "cell_type": "code",
   "execution_count": 38,
   "metadata": {},
   "outputs": [],
   "source": [
    "hello_rules = '''\n",
    "say_hello = names hello tail \n",
    "names = name names | name \n",
    "name = 张三 | 李四 | Jhon\n",
    "hello = 您好 | 你来了 | 进来坐 \n",
    "tail = 呀 | ！\n",
    "'''"
   ]
  },
  {
   "cell_type": "code",
   "execution_count": 40,
   "metadata": {},
   "outputs": [
    {
     "data": {
      "text/plain": [
       "'add = number + number'"
      ]
     },
     "execution_count": 40,
     "metadata": {},
     "output_type": "execute_result"
    }
   ],
   "source": [
    "'add = number + number'"
   ]
  },
  {
   "cell_type": "code",
   "execution_count": 94,
   "metadata": {},
   "outputs": [],
   "source": [
    "def get_generation_by_gram(grammar_str: str, target, stmt_split='=', or_split='|'):\n",
    "    \n",
    "#     stmt_split = '='\n",
    "#     or_split = '|'\n",
    "    rules = dict() # key is the @statement, value is @expression\n",
    "    for line in grammar_str.split('\\n'):\n",
    "        if not line: continue \n",
    "    #     skip the epty line\n",
    "\n",
    "        stmt, expr = line.split(stmt_split)\n",
    "\n",
    "        print(stmt, expr.split(or_split))\n",
    "\n",
    "        rules[stmt.strip()] = expr.split(or_split)\n",
    "    generated = generate(rules, target=target)\n",
    "    \n",
    "    return generated"
   ]
  },
  {
   "cell_type": "code",
   "execution_count": 97,
   "metadata": {},
   "outputs": [],
   "source": [
    "def generate(grammar_rule,target):\n",
    "    if target in grammar_rule:   #names\n",
    "        candidates = grammar_rule[target]   #['name names', 'name']\n",
    "        candidate = random.choice(candidates)   #'name names', 'name'\n",
    "        return ''.join(generate(grammar_rule,target=c.strip())for c in candidate.split())\n",
    "    else:\n",
    "        return target"
   ]
  },
  {
   "cell_type": "code",
   "execution_count": 98,
   "metadata": {},
   "outputs": [
    {
     "name": "stdout",
     "output_type": "stream",
     "text": [
      "say_hello  [' names hello tail ']\n",
      "names  [' name names ', ' name ']\n",
      "name  [' 张三 ', ' 李四 ', ' Jhon']\n",
      "hello  [' 您好 ', ' 你来了 ', ' 进来坐 ']\n",
      "tail  [' 呀 ', ' ！']\n"
     ]
    },
    {
     "data": {
      "text/plain": [
       "'张三李四进来坐！'"
      ]
     },
     "execution_count": 98,
     "metadata": {},
     "output_type": "execute_result"
    }
   ],
   "source": [
    "get_generation_by_gram(hello_rules, target='say_hello')"
   ]
  },
  {
   "cell_type": "code",
   "execution_count": 95,
   "metadata": {},
   "outputs": [],
   "source": [
    "simple_grammar = \"\"\"\n",
    "sentence => noun_phrase verb_phrase\n",
    "noun_phrase => Article Adj* noun\n",
    "Adj* => Adj | Adj Adj*\n",
    "verb_phrase => verb noun_phrase\n",
    "Article =>  一个 | 这个\n",
    "noun =>   女人 |  篮球 | 桌子 | 小猫\n",
    "verb => 看着   |  坐在 |  听着 | 看见\n",
    "Adj =>   蓝色的 |  好看的 | 小小的\"\"\""
   ]
  },
  {
   "cell_type": "code",
   "execution_count": 99,
   "metadata": {},
   "outputs": [
    {
     "name": "stdout",
     "output_type": "stream",
     "text": [
      "sentence  [' noun_phrase verb_phrase']\n",
      "noun_phrase  [' Article Adj* noun']\n",
      "Adj*  [' Adj ', ' Adj Adj*']\n",
      "verb_phrase  [' verb noun_phrase']\n",
      "Article  ['  一个 ', ' 这个']\n",
      "noun  ['   女人 ', '  篮球 ', ' 桌子 ', ' 小猫']\n",
      "verb  [' 看着   ', '  坐在 ', '  听着 ', ' 看见']\n",
      "Adj  ['   蓝色的 ', '  好看的 ', ' 小小的']\n"
     ]
    },
    {
     "data": {
      "text/plain": [
       "'一个蓝色的小小的好看的桌子看见一个小小的蓝色的蓝色的好看的蓝色的女人'"
      ]
     },
     "execution_count": 99,
     "metadata": {},
     "output_type": "execute_result"
    }
   ],
   "source": [
    "get_generation_by_gram(simple_grammar, target='sentence', stmt_split='=>')"
   ]
  },
  {
   "cell_type": "code",
   "execution_count": 107,
   "metadata": {},
   "outputs": [],
   "source": [
    "simpel_programming = '''\n",
    "if_stmt => if ( cond ) { stmt }\n",
    "cond => var op var\n",
    "op => | == | < | >= | <= \n",
    "stmt => assign | if_stmt\n",
    "assign => var = var\n",
    "var =>  char var | char\n",
    "char => a | b |  c | d | 0 | 1 | 2 | 3\n",
    "'''"
   ]
  },
  {
   "cell_type": "code",
   "execution_count": 109,
   "metadata": {},
   "outputs": [
    {
     "name": "stdout",
     "output_type": "stream",
     "text": [
      "if_stmt  [' if ( cond ) { stmt }']\n",
      "cond  [' var op var']\n",
      "op  [' ', ' == ', ' < ', ' >= ', ' <= ']\n",
      "stmt  [' assign ', ' if_stmt']\n",
      "assign  [' var = var']\n",
      "var  ['  char var ', ' char']\n",
      "char  [' a ', ' b ', '  c ', ' d ', ' 0 ', ' 1 ', ' 2 ', ' 3']\n",
      "if(c011b<=c){b3=1bc}\n",
      "if_stmt  [' if ( cond ) { stmt }']\n",
      "cond  [' var op var']\n",
      "op  [' ', ' == ', ' < ', ' >= ', ' <= ']\n",
      "stmt  [' assign ', ' if_stmt']\n",
      "assign  [' var = var']\n",
      "var  ['  char var ', ' char']\n",
      "char  [' a ', ' b ', '  c ', ' d ', ' 0 ', ' 1 ', ' 2 ', ' 3']\n",
      "if(c==11b){2=2}\n",
      "if_stmt  [' if ( cond ) { stmt }']\n",
      "cond  [' var op var']\n",
      "op  [' ', ' == ', ' < ', ' >= ', ' <= ']\n",
      "stmt  [' assign ', ' if_stmt']\n",
      "assign  [' var = var']\n",
      "var  ['  char var ', ' char']\n",
      "char  [' a ', ' b ', '  c ', ' d ', ' 0 ', ' 1 ', ' 2 ', ' 3']\n",
      "if(1b){c0=00}\n",
      "if_stmt  [' if ( cond ) { stmt }']\n",
      "cond  [' var op var']\n",
      "op  [' ', ' == ', ' < ', ' >= ', ' <= ']\n",
      "stmt  [' assign ', ' if_stmt']\n",
      "assign  [' var = var']\n",
      "var  ['  char var ', ' char']\n",
      "char  [' a ', ' b ', '  c ', ' d ', ' 0 ', ' 1 ', ' 2 ', ' 3']\n",
      "if(a>=c){a31=0}\n",
      "if_stmt  [' if ( cond ) { stmt }']\n",
      "cond  [' var op var']\n",
      "op  [' ', ' == ', ' < ', ' >= ', ' <= ']\n",
      "stmt  [' assign ', ' if_stmt']\n",
      "assign  [' var = var']\n",
      "var  ['  char var ', ' char']\n",
      "char  [' a ', ' b ', '  c ', ' d ', ' 0 ', ' 1 ', ' 2 ', ' 3']\n",
      "if(d<=21b){if(ba){c02=1}}\n",
      "if_stmt  [' if ( cond ) { stmt }']\n",
      "cond  [' var op var']\n",
      "op  [' ', ' == ', ' < ', ' >= ', ' <= ']\n",
      "stmt  [' assign ', ' if_stmt']\n",
      "assign  [' var = var']\n",
      "var  ['  char var ', ' char']\n",
      "char  [' a ', ' b ', '  c ', ' d ', ' 0 ', ' 1 ', ' 2 ', ' 3']\n",
      "if(0a<=db){if(aa){130=c03}}\n",
      "if_stmt  [' if ( cond ) { stmt }']\n",
      "cond  [' var op var']\n",
      "op  [' ', ' == ', ' < ', ' >= ', ' <= ']\n",
      "stmt  [' assign ', ' if_stmt']\n",
      "assign  [' var = var']\n",
      "var  ['  char var ', ' char']\n",
      "char  [' a ', ' b ', '  c ', ' d ', ' 0 ', ' 1 ', ' 2 ', ' 3']\n",
      "if(3b){c321=c}\n",
      "if_stmt  [' if ( cond ) { stmt }']\n",
      "cond  [' var op var']\n",
      "op  [' ', ' == ', ' < ', ' >= ', ' <= ']\n",
      "stmt  [' assign ', ' if_stmt']\n",
      "assign  [' var = var']\n",
      "var  ['  char var ', ' char']\n",
      "char  [' a ', ' b ', '  c ', ' d ', ' 0 ', ' 1 ', ' 2 ', ' 3']\n",
      "if(d>=a){if(1332){if(303b3<=2b1){if(1bd20a1b){2=1}}}}\n",
      "if_stmt  [' if ( cond ) { stmt }']\n",
      "cond  [' var op var']\n",
      "op  [' ', ' == ', ' < ', ' >= ', ' <= ']\n",
      "stmt  [' assign ', ' if_stmt']\n",
      "assign  [' var = var']\n",
      "var  ['  char var ', ' char']\n",
      "char  [' a ', ' b ', '  c ', ' d ', ' 0 ', ' 1 ', ' 2 ', ' 3']\n",
      "if(aa<23){if(a==c1){if(121==3){d=2}}}\n",
      "if_stmt  [' if ( cond ) { stmt }']\n",
      "cond  [' var op var']\n",
      "op  [' ', ' == ', ' < ', ' >= ', ' <= ']\n",
      "stmt  [' assign ', ' if_stmt']\n",
      "assign  [' var = var']\n",
      "var  ['  char var ', ' char']\n",
      "char  [' a ', ' b ', '  c ', ' d ', ' 0 ', ' 1 ', ' 2 ', ' 3']\n",
      "if(d==0bd){if(b20c>=b){if(3<2d){if(d<=b31){if(a2<3){if(cb){0=ccdd3b11d}}}}}}\n"
     ]
    }
   ],
   "source": [
    "for i in range(10):\n",
    "    print(get_generation_by_gram(simpel_programming, target='if_stmt', stmt_split='=>'))"
   ]
  },
  {
   "cell_type": "code",
   "execution_count": 53,
   "metadata": {},
   "outputs": [
    {
     "data": {
      "text/plain": [
       "[' 张三 ', ' 李四 ', ' Jhon']"
      ]
     },
     "execution_count": 53,
     "metadata": {},
     "output_type": "execute_result"
    }
   ],
   "source": [
    "rules['name']"
   ]
  },
  {
   "cell_type": "code",
   "execution_count": 54,
   "metadata": {},
   "outputs": [
    {
     "data": {
      "text/plain": [
       "[' name names ', ' name ']"
      ]
     },
     "execution_count": 54,
     "metadata": {},
     "output_type": "execute_result"
    }
   ],
   "source": [
    "rules['names']"
   ]
  },
  {
   "cell_type": "code",
   "execution_count": 55,
   "metadata": {},
   "outputs": [
    {
     "data": {
      "text/plain": [
       "[' 张三 ', ' 李四 ', ' Jhon']"
      ]
     },
     "execution_count": 55,
     "metadata": {},
     "output_type": "execute_result"
    }
   ],
   "source": [
    "rules['name']"
   ]
  },
  {
   "cell_type": "code",
   "execution_count": 86,
   "metadata": {},
   "outputs": [
    {
     "data": {
      "text/plain": [
       "'李四 张三 您好 呀'"
      ]
     },
     "execution_count": 86,
     "metadata": {},
     "output_type": "execute_result"
    }
   ],
   "source": [
    "generate(rules, target='say_hello')"
   ]
  },
  {
   "cell_type": "markdown",
   "metadata": {},
   "source": []
  },
  {
   "cell_type": "markdown",
   "metadata": {},
   "source": [
    "## Language Model\n",
    "## Input: Sentence(w1..wn)\n",
    "## Output: Pribability(0-1)\n",
    "## 2-Gram\n",
    "\n",
    "$$ Pr(sentence) = Pr(w_1 \\cdot w_2 \\cdots w_n) = \\prod \\frac{count(w_i, w_{i+1})}{count(w_i)}$$"
   ]
  },
  {
   "cell_type": "code",
   "execution_count": 114,
   "metadata": {},
   "outputs": [],
   "source": [
    "corpus = 'C:/Users/Lenovo/Desktop/Data/article_9k.txt'"
   ]
  },
  {
   "cell_type": "code",
   "execution_count": 118,
   "metadata": {},
   "outputs": [],
   "source": [
    "FILE = open(corpus).read()"
   ]
  },
  {
   "cell_type": "code",
   "execution_count": 125,
   "metadata": {},
   "outputs": [],
   "source": [
    "def generate_by_pro(text_corpus, length=20):\n",
    "    return ''.join(random.sample(text_corpus, length))"
   ]
  },
  {
   "cell_type": "code",
   "execution_count": 131,
   "metadata": {},
   "outputs": [
    {
     "data": {
      "text/plain": [
       "'传点体业中n台能当曼学A这研活三人方水松'"
      ]
     },
     "execution_count": 131,
     "metadata": {},
     "output_type": "execute_result"
    }
   ],
   "source": [
    "generate_by_pro(FILE)"
   ]
  },
  {
   "cell_type": "code",
   "execution_count": 120,
   "metadata": {},
   "outputs": [
    {
     "data": {
      "text/plain": [
       "33425826"
      ]
     },
     "execution_count": 120,
     "metadata": {},
     "output_type": "execute_result"
    }
   ],
   "source": [
    "len(FILE)"
   ]
  },
  {
   "cell_type": "code",
   "execution_count": 126,
   "metadata": {},
   "outputs": [
    {
     "data": {
      "text/plain": [
       "'此外自本周6月12日起除小米手机6等15款机型外其余机型已暂停更新发布含开发版体验版内测稳定版暂不受影响以确保工程师可以集中全部精力进行系统优化工作有人猜测这也是将精力主要用到MIUI9的研发之中MIUI8去年5月发布距今已有一年有余也是时候更新换代了当然关于MIUI9的确切信息我们还是等待官方消息\\n骁龙835作为唯一通过Windows10桌面平台认证的ARM处理器高通强调不会因为只考虑性能而去屏蔽掉小核心相反他们正联手微软找到一种适合桌面平台的兼顾性能和功耗的完美方案报道称微软已经拿到了一些新的源码以便Windows10更好地理解biglittle架构资料显示骁龙835作为一款集成了CPUGPU基带蓝牙WiFi的SoC比传统的Wintel方案可以节省至少30的PCB空间按计划今年Q4华硕惠普联想将首发骁龙835Win10电脑预计均是二合一形态的产品当然高通骁龙只是个开始未来也许还能见到三星Exynos联发科华为麒麟小米澎湃等进入Windows10桌面平台\\n此前的一加3T搭载的是3400mAh电池DashCharge快充规格为5V4A至于电池缩水可能与刘作虎所说一加手机5要做市面最轻薄'"
      ]
     },
     "execution_count": 126,
     "metadata": {},
     "output_type": "execute_result"
    }
   ],
   "source": [
    "FILE[:500]"
   ]
  },
  {
   "cell_type": "code",
   "execution_count": 135,
   "metadata": {},
   "outputs": [],
   "source": [
    "import jieba"
   ]
  },
  {
   "cell_type": "code",
   "execution_count": 141,
   "metadata": {},
   "outputs": [],
   "source": [
    "max_length = 30000000\n",
    "sub_file = FILE[:max_length]"
   ]
  },
  {
   "cell_type": "code",
   "execution_count": 142,
   "metadata": {},
   "outputs": [],
   "source": [
    "def cut(string):\n",
    "    return list(jieba.cut(string))"
   ]
  },
  {
   "cell_type": "code",
   "execution_count": 143,
   "metadata": {},
   "outputs": [],
   "source": [
    "TOKENS = cut(sub_file)"
   ]
  },
  {
   "cell_type": "code",
   "execution_count": 144,
   "metadata": {},
   "outputs": [
    {
     "data": {
      "text/plain": [
       "15799764"
      ]
     },
     "execution_count": 144,
     "metadata": {},
     "output_type": "execute_result"
    }
   ],
   "source": [
    "len(TOKENS)"
   ]
  },
  {
   "cell_type": "code",
   "execution_count": 145,
   "metadata": {},
   "outputs": [],
   "source": [
    "from collections import Counter"
   ]
  },
  {
   "cell_type": "code",
   "execution_count": 146,
   "metadata": {},
   "outputs": [],
   "source": [
    "%matplotlib inline"
   ]
  },
  {
   "cell_type": "code",
   "execution_count": 151,
   "metadata": {},
   "outputs": [],
   "source": [
    "words_count = Counter(TOKENS)"
   ]
  },
  {
   "cell_type": "code",
   "execution_count": 158,
   "metadata": {},
   "outputs": [
    {
     "data": {
      "text/plain": [
       "[('的', 634119),\n",
       " ('n', 331960),\n",
       " ('在', 234506),\n",
       " ('月', 167236),\n",
       " ('日', 147045),\n",
       " ('新华社', 124009),\n",
       " ('和', 120957),\n",
       " ('了', 110446),\n",
       " ('年', 108003),\n",
       " ('是', 91349),\n",
       " ('\\n', 79587),\n",
       " ('１', 77368),\n",
       " ('０', 74023),\n",
       " ('外代', 72703),\n",
       " ('中', 64380),\n",
       " ('中国', 63714),\n",
       " ('２', 61994),\n",
       " ('2017', 59900),\n",
       " ('将', 55307),\n",
       " ('记者', 54268),\n",
       " ('二线', 54092),\n",
       " ('等', 52540),\n",
       " ('与', 52469),\n",
       " ('为', 51777),\n",
       " ('5', 48462),\n",
       " ('4', 47837),\n",
       " ('照片', 45630),\n",
       " ('对', 45492),\n",
       " ('也', 43021),\n",
       " ('上', 42657),\n",
       " ('有', 41855),\n",
       " ('５', 35494),\n",
       " ('说', 34579),\n",
       " ('发展', 34189),\n",
       " ('他', 33789),\n",
       " ('以', 32474),\n",
       " ('国际', 32013),\n",
       " ('３', 31712),\n",
       " ('４', 30939),\n",
       " ('nn', 30767),\n",
       " ('到', 26901),\n",
       " ('比赛', 26529),\n",
       " ('从', 26502),\n",
       " ('人', 26437),\n",
       " ('不', 25704),\n",
       " ('都', 25290),\n",
       " ('６', 25202),\n",
       " ('后', 24618),\n",
       " ('就', 24174),\n",
       " ('企业', 24024),\n",
       " ('并', 23866),\n",
       " ('国家', 23708),\n",
       " ('７', 23164),\n",
       " ('当日', 23130),\n",
       " ('进行', 22793),\n",
       " ('美国', 22788),\n",
       " ('被', 22722),\n",
       " ('北京', 22643),\n",
       " ('这', 22053),\n",
       " ('举行', 21758),\n",
       " ('新', 21643),\n",
       " ('3', 21471),\n",
       " ('但', 21329),\n",
       " ('体育', 21278),\n",
       " ('个', 20716),\n",
       " ('n4', 20532),\n",
       " ('足球', 20454),\n",
       " ('2', 20227),\n",
       " ('表示', 20032),\n",
       " ('经济', 19927),\n",
       " ('1', 19889),\n",
       " ('比', 19844),\n",
       " ('一个', 19827),\n",
       " ('我', 19700),\n",
       " ('还', 19649),\n",
       " ('6', 19622),\n",
       " ('要', 19305),\n",
       " ('９', 19294),\n",
       " ('合作', 19227),\n",
       " ('工作', 18947),\n",
       " ('n5', 18876),\n",
       " ('已', 18557),\n",
       " ('我们', 18159),\n",
       " ('８', 18142),\n",
       " ('一路', 17891),\n",
       " ('一带', 17826),\n",
       " ('摄', 17632),\n",
       " ('市场', 17527),\n",
       " ('建设', 17216),\n",
       " ('让', 16514),\n",
       " ('通过', 16422),\n",
       " ('公司', 16062),\n",
       " ('问题', 15960),\n",
       " ('日电', 15944),\n",
       " ('时', 15926),\n",
       " ('多', 15925),\n",
       " ('于', 15765),\n",
       " ('项目', 15643),\n",
       " ('会', 15619),\n",
       " ('更', 15575)]"
      ]
     },
     "execution_count": 158,
     "metadata": {},
     "output_type": "execute_result"
    }
   ],
   "source": [
    "words_count.most_common(100)"
   ]
  },
  {
   "cell_type": "code",
   "execution_count": 152,
   "metadata": {},
   "outputs": [],
   "source": [
    "words_with_fre = [f for w, f in words_count.most_common()]"
   ]
  },
  {
   "cell_type": "code",
   "execution_count": 147,
   "metadata": {},
   "outputs": [],
   "source": [
    "import matplotlib.pyplot as plt"
   ]
  },
  {
   "cell_type": "code",
   "execution_count": 160,
   "metadata": {},
   "outputs": [
    {
     "data": {
      "text/plain": [
       "[634119,\n",
       " 331960,\n",
       " 234506,\n",
       " 167236,\n",
       " 147045,\n",
       " 124009,\n",
       " 120957,\n",
       " 110446,\n",
       " 108003,\n",
       " 91349,\n",
       " 79587,\n",
       " 77368,\n",
       " 74023,\n",
       " 72703,\n",
       " 64380,\n",
       " 63714,\n",
       " 61994,\n",
       " 59900,\n",
       " 55307,\n",
       " 54268,\n",
       " 54092,\n",
       " 52540,\n",
       " 52469,\n",
       " 51777,\n",
       " 48462,\n",
       " 47837,\n",
       " 45630,\n",
       " 45492,\n",
       " 43021,\n",
       " 42657,\n",
       " 41855,\n",
       " 35494,\n",
       " 34579,\n",
       " 34189,\n",
       " 33789,\n",
       " 32474,\n",
       " 32013,\n",
       " 31712,\n",
       " 30939,\n",
       " 30767,\n",
       " 26901,\n",
       " 26529,\n",
       " 26502,\n",
       " 26437,\n",
       " 25704,\n",
       " 25290,\n",
       " 25202,\n",
       " 24618,\n",
       " 24174,\n",
       " 24024,\n",
       " 23866,\n",
       " 23708,\n",
       " 23164,\n",
       " 23130,\n",
       " 22793,\n",
       " 22788,\n",
       " 22722,\n",
       " 22643,\n",
       " 22053,\n",
       " 21758,\n",
       " 21643,\n",
       " 21471,\n",
       " 21329,\n",
       " 21278,\n",
       " 20716,\n",
       " 20532,\n",
       " 20454,\n",
       " 20227,\n",
       " 20032,\n",
       " 19927,\n",
       " 19889,\n",
       " 19844,\n",
       " 19827,\n",
       " 19700,\n",
       " 19649,\n",
       " 19622,\n",
       " 19305,\n",
       " 19294,\n",
       " 19227,\n",
       " 18947,\n",
       " 18876,\n",
       " 18557,\n",
       " 18159,\n",
       " 18142,\n",
       " 17891,\n",
       " 17826,\n",
       " 17632,\n",
       " 17527,\n",
       " 17216,\n",
       " 16514,\n",
       " 16422,\n",
       " 16062,\n",
       " 15960,\n",
       " 15944,\n",
       " 15926,\n",
       " 15925,\n",
       " 15765,\n",
       " 15643,\n",
       " 15619,\n",
       " 15575]"
      ]
     },
     "execution_count": 160,
     "metadata": {},
     "output_type": "execute_result"
    }
   ],
   "source": [
    "words_with_fre[:100]"
   ]
  },
  {
   "cell_type": "code",
   "execution_count": 149,
   "metadata": {},
   "outputs": [],
   "source": [
    "import numpy as np"
   ]
  },
  {
   "cell_type": "code",
   "execution_count": 162,
   "metadata": {},
   "outputs": [
    {
     "data": {
      "text/plain": [
       "[<matplotlib.lines.Line2D at 0x1372ead4940>]"
      ]
     },
     "execution_count": 162,
     "metadata": {},
     "output_type": "execute_result"
    },
    {
     "data": {
      "image/png": "[encoded data removed]",
      "text/plain": [
       "<Figure size 432x288 with 1 Axes>"
      ]
     },
     "metadata": {
      "needs_background": "light"
     },
     "output_type": "display_data"
    }
   ],
   "source": [
    "plt.plot(np.log(np.log(words_with_fre)))"
   ]
  },
  {
   "cell_type": "markdown",
   "metadata": {},
   "source": [
    "## 在大量的文本中，出现次数第二多的单词，它出现的概率是，出现频率最高的单词的1/2，出现频率第三高的单词，频率是最高的单词的1/3,1000 =>1/1000"
   ]
  },
  {
   "cell_type": "code",
   "execution_count": 136,
   "metadata": {},
   "outputs": [
    {
     "name": "stderr",
     "output_type": "stream",
     "text": [
      "Building prefix dict from the default dictionary ...\n",
      "Dumping model to file cache C:\\Users\\Lenovo\\AppData\\Local\\Temp\\jieba.cache\n",
      "Loading model cost 0.794 seconds.\n",
      "Prefix dict has been built succesfully.\n"
     ]
    },
    {
     "data": {
      "text/plain": [
       "['一加', '手机', '5', '要', '做', '市面', '最', '轻薄']"
      ]
     },
     "execution_count": 136,
     "metadata": {},
     "output_type": "execute_result"
    }
   ],
   "source": [
    "list(jieba.cut('一加手机5要做市面最轻薄'))"
   ]
  },
  {
   "cell_type": "code",
   "execution_count": 163,
   "metadata": {},
   "outputs": [],
   "source": [
    "_2_gram_words = [\n",
    "    TOKENS[i] + TOKENS[i+1] for i in range(len(TOKENS)-1)\n",
    "]"
   ]
  },
  {
   "cell_type": "code",
   "execution_count": 164,
   "metadata": {},
   "outputs": [
    {
     "data": {
      "text/plain": [
       "['此外自', '自本周', '本周6', '6月', '月12', '12日起', '日起除', '除小米', '小米手机', '手机6']"
      ]
     },
     "execution_count": 164,
     "metadata": {},
     "output_type": "execute_result"
    }
   ],
   "source": [
    "_2_gram_words[:10]"
   ]
  },
  {
   "cell_type": "code",
   "execution_count": 165,
   "metadata": {},
   "outputs": [],
   "source": [
    "_2_gram_word_counts = Counter(_2_gram_words)"
   ]
  },
  {
   "cell_type": "code",
   "execution_count": null,
   "metadata": {},
   "outputs": [],
   "source": []
  },
  {
   "cell_type": "markdown",
   "metadata": {},
   "source": [
    "$$ Pr(sentence) = Pr(w_1 \\cdot w_2 \\cdots w_n) = \\prod \\frac{count(w_i, w_{i+1})}{count(w_{i+1})}$$\n"
   ]
  },
  {
   "cell_type": "code",
   "execution_count": 170,
   "metadata": {},
   "outputs": [
    {
     "data": {
      "text/plain": [
       "1"
      ]
     },
     "execution_count": 170,
     "metadata": {},
     "output_type": "execute_result"
    }
   ],
   "source": [
    "words_count.most_common()[-1][-1]"
   ]
  },
  {
   "cell_type": "code",
   "execution_count": 171,
   "metadata": {},
   "outputs": [],
   "source": [
    "def get_1_gram_count(word):\n",
    "    if word in words_count:return words_count[word]\n",
    "    else:\n",
    "        return words_count.most_common()[-1][-1]"
   ]
  },
  {
   "cell_type": "code",
   "execution_count": 172,
   "metadata": {},
   "outputs": [],
   "source": [
    "def get_2_gram_count(word):\n",
    "    if word in _2_gram_word_counts: return _2_gram_word_counts[word]\n",
    "    else:\n",
    "        return _2_gram_word_counts.most_common()[-1][-1]"
   ]
  },
  {
   "cell_type": "code",
   "execution_count": 173,
   "metadata": {},
   "outputs": [],
   "source": [
    "def get_gram_count(word, wc):\n",
    "    if word in wc: return wc[word]\n",
    "    else:\n",
    "        return wc.most_common()[-1][-1]"
   ]
  },
  {
   "cell_type": "code",
   "execution_count": 177,
   "metadata": {},
   "outputs": [
    {
     "data": {
      "text/plain": [
       "3"
      ]
     },
     "execution_count": 177,
     "metadata": {},
     "output_type": "execute_result"
    }
   ],
   "source": [
    "get_gram_count('XXX',words_count)"
   ]
  },
  {
   "cell_type": "code",
   "execution_count": 175,
   "metadata": {},
   "outputs": [
    {
     "data": {
      "text/plain": [
       "1"
      ]
     },
     "execution_count": 175,
     "metadata": {},
     "output_type": "execute_result"
    }
   ],
   "source": [
    "get_gram_count('XXX', _2_gram_word_counts)"
   ]
  },
  {
   "cell_type": "code",
   "execution_count": 178,
   "metadata": {},
   "outputs": [],
   "source": [
    "def two_gram_model(sentence):\n",
    "    tokens = cut(sentence)\n",
    "    \n",
    "    probability = 1 \n",
    "    \n",
    "    for i in range(len(tokens)-1):\n",
    "        word = tokens[i]\n",
    "        next_word = tokens[i+1]\n",
    "        \n",
    "        _two_gram_c = get_gram_count(word+next_word, _2_gram_word_counts)\n",
    "        _one_gram_c = get_gram_count(next_word, words_count)\n",
    "        pro =  _two_gram_c / _one_gram_c\n",
    "        probability *= pro \n",
    "        \n",
    "    return probability"
   ]
  },
  {
   "cell_type": "code",
   "execution_count": 185,
   "metadata": {},
   "outputs": [
    {
     "data": {
      "text/plain": [
       "5.461703749621704e-37"
      ]
     },
     "execution_count": 185,
     "metadata": {},
     "output_type": "execute_result"
    }
   ],
   "source": [
    "two_gram_model('此外自本周6月12日起除小米手机6等15款机型')"
   ]
  },
  {
   "cell_type": "code",
   "execution_count": 179,
   "metadata": {},
   "outputs": [
    {
     "data": {
      "text/plain": [
       "8.228346369245645e-10"
      ]
     },
     "execution_count": 179,
     "metadata": {},
     "output_type": "execute_result"
    }
   ],
   "source": [
    "two_gram_model('前天早上吃晚饭的时候')"
   ]
  },
  {
   "cell_type": "code",
   "execution_count": 180,
   "metadata": {},
   "outputs": [
    {
     "data": {
      "text/plain": [
       "3.2358004455062954e-13"
      ]
     },
     "execution_count": 180,
     "metadata": {},
     "output_type": "execute_result"
    }
   ],
   "source": [
    "two_gram_model('前天早上吃早饭的时候')"
   ]
  },
  {
   "cell_type": "code",
   "execution_count": 181,
   "metadata": {},
   "outputs": [
    {
     "data": {
      "text/plain": [
       "7.249783737138675e-10"
      ]
     },
     "execution_count": 181,
     "metadata": {},
     "output_type": "execute_result"
    }
   ],
   "source": [
    "two_gram_model('我请你吃日料大餐')"
   ]
  },
  {
   "cell_type": "code",
   "execution_count": 182,
   "metadata": {},
   "outputs": [
    {
     "data": {
      "text/plain": [
       "9.656711937868715e-07"
      ]
     },
     "execution_count": 182,
     "metadata": {},
     "output_type": "execute_result"
    }
   ],
   "source": [
    "two_gram_model('我请你吃火锅')"
   ]
  },
  {
   "cell_type": "code",
   "execution_count": 183,
   "metadata": {},
   "outputs": [
    {
     "data": {
      "text/plain": [
       "1.7170641916387719e-07"
      ]
     },
     "execution_count": 183,
     "metadata": {},
     "output_type": "execute_result"
    }
   ],
   "source": [
    "two_gram_model('这个人来自清华大学')"
   ]
  },
  {
   "cell_type": "code",
   "execution_count": 184,
   "metadata": {},
   "outputs": [
    {
     "data": {
      "text/plain": [
       "5.67269691451638e-10"
      ]
     },
     "execution_count": 184,
     "metadata": {},
     "output_type": "execute_result"
    }
   ],
   "source": [
    "two_gram_model('这个人来自秦华大学')"
   ]
  },
  {
   "cell_type": "code",
   "execution_count": 186,
   "metadata": {},
   "outputs": [
    {
     "data": {
      "text/plain": [
       "1.8124288657918754e-09"
      ]
     },
     "execution_count": 186,
     "metadata": {},
     "output_type": "execute_result"
    }
   ],
   "source": [
    "two_gram_model('这个花特别好看')"
   ]
  },
  {
   "cell_type": "code",
   "execution_count": 187,
   "metadata": {},
   "outputs": [
    {
     "data": {
      "text/plain": [
       "8.333573073563514e-11"
      ]
     },
     "execution_count": 187,
     "metadata": {},
     "output_type": "execute_result"
    }
   ],
   "source": [
    "two_gram_model('花这特别好看')"
   ]
  },
  {
   "cell_type": "code",
   "execution_count": null,
   "metadata": {},
   "outputs": [],
   "source": []
  }
 ],
 "metadata": {
  "kernelspec": {
   "display_name": "Python 3",
   "language": "python",
   "name": "python3"
  },
  "language_info": {
   "codemirror_mode": {
    "name": "ipython",
    "version": 3
   },
   "file_extension": ".py",
   "mimetype": "text/x-python",
   "name": "python",
   "nbconvert_exporter": "python",
   "pygments_lexer": "ipython3",
   "version": "3.6.8"
  },
  "toc": {
   "base_numbering": 1,
   "nav_menu": {},
   "number_sections": true,
   "sideBar": true,
   "skip_h1_title": false,
   "title_cell": "Table of Contents",
   "title_sidebar": "Contents",
   "toc_cell": false,
   "toc_position": {},
   "toc_section_display": true,
   "toc_window_display": false
  }
 },
 "nbformat": 4,
 "nbformat_minor": 2
}
