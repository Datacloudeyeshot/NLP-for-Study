{
 "cells": [
  {
   "cell_type": "markdown",
   "metadata": {},
   "source": [
    "# Part1"
   ]
  },
  {
   "cell_type": "markdown",
   "metadata": {},
   "source": [
    "## 城市地理数据"
   ]
  },
  {
   "cell_type": "code",
   "execution_count": 1,
   "metadata": {},
   "outputs": [],
   "source": [
    "coordination_source = \"\"\"\n",
    "{name:'兰州', geoCoord:[103.73, 36.03]},\n",
    "{name:'嘉峪关', geoCoord:[98.17, 39.47]},\n",
    "{name:'西宁', geoCoord:[101.74, 36.56]},\n",
    "{name:'成都', geoCoord:[104.06, 30.67]},\n",
    "{name:'石家庄', geoCoord:[114.48, 38.03]},\n",
    "{name:'拉萨', geoCoord:[102.73, 25.04]},\n",
    "{name:'贵阳', geoCoord:[106.71, 26.57]},\n",
    "{name:'武汉', geoCoord:[114.31, 30.52]},\n",
    "{name:'郑州', geoCoord:[113.65, 34.76]},\n",
    "{name:'济南', geoCoord:[117, 36.65]},\n",
    "{name:'南京', geoCoord:[118.78, 32.04]},\n",
    "{name:'合肥', geoCoord:[117.27, 31.86]},\n",
    "{name:'杭州', geoCoord:[120.19, 30.26]},\n",
    "{name:'南昌', geoCoord:[115.89, 28.68]},\n",
    "{name:'福州', geoCoord:[119.3, 26.08]},\n",
    "{name:'广州', geoCoord:[113.23, 23.16]},\n",
    "{name:'长沙', geoCoord:[113, 28.21]},\n",
    "//{name:'海口', geoCoord:[110.35, 20.02]},\n",
    "{name:'沈阳', geoCoord:[123.38, 41.8]},\n",
    "{name:'长春', geoCoord:[125.35, 43.88]},\n",
    "{name:'哈尔滨', geoCoord:[126.63, 45.75]},\n",
    "{name:'太原', geoCoord:[112.53, 37.87]},\n",
    "{name:'西安', geoCoord:[108.95, 34.27]},\n",
    "//{name:'台湾', geoCoord:[121.30, 25.03]},\n",
    "{name:'北京', geoCoord:[116.46, 39.92]},\n",
    "{name:'上海', geoCoord:[121.48, 31.22]},\n",
    "{name:'重庆', geoCoord:[106.54, 29.59]},\n",
    "{name:'天津', geoCoord:[117.2, 39.13]},\n",
    "{name:'呼和浩特', geoCoord:[111.65, 40.82]},\n",
    "{name:'南宁', geoCoord:[108.33, 22.84]},\n",
    "//{name:'西藏', geoCoord:[91.11, 29.97]},\n",
    "{name:'银川', geoCoord:[106.27, 38.47]},\n",
    "{name:'乌鲁木齐', geoCoord:[87.68, 43.77]},\n",
    "{name:'香港', geoCoord:[114.17, 22.28]},\n",
    "{name:'澳门', geoCoord:[113.54, 22.19]}\n",
    "\"\"\""
   ]
  },
  {
   "cell_type": "markdown",
   "metadata": {},
   "source": [
    "### 使用正则表达式获得数据"
   ]
  },
  {
   "cell_type": "code",
   "execution_count": 2,
   "metadata": {},
   "outputs": [],
   "source": [
    "import re"
   ]
  },
  {
   "cell_type": "code",
   "execution_count": 3,
   "metadata": {},
   "outputs": [],
   "source": [
    "l = \"color or colour\""
   ]
  },
  {
   "cell_type": "code",
   "execution_count": 5,
   "metadata": {},
   "outputs": [
    {
     "data": {
      "text/plain": [
       "['color', 'colour']"
      ]
     },
     "execution_count": 5,
     "metadata": {},
     "output_type": "execute_result"
    }
   ],
   "source": [
    "pattern = re.compile(\"colou?r\")  #使用正则表达式提取数据\n",
    "pattern.findall(l)"
   ]
  },
  {
   "cell_type": "code",
   "execution_count": 6,
   "metadata": {},
   "outputs": [],
   "source": [
    "# 提取城市名及地理坐标\n",
    "def get_city_info(city_coordination):\n",
    "    city_location = {}\n",
    "    for line in city_coordination.split('\\n'):\n",
    "        if line.startswith('//'):continue\n",
    "        if line.strip() == \"\":continue\n",
    "            \n",
    "        city = re.findall(\"name:'(\\w+)'\",line)[0]\n",
    "        x_y = re.findall(\"Coord:\\[(\\d+.\\d+),\\s(\\d+.\\d+)\\]\",line)[0]\n",
    "        x_y = tuple(map(float,x_y))\n",
    "        city_location[city] = x_y\n",
    "    return city_location"
   ]
  },
  {
   "cell_type": "code",
   "execution_count": 7,
   "metadata": {},
   "outputs": [],
   "source": [
    "city_info = get_city_info(coordination_source)"
   ]
  },
  {
   "cell_type": "code",
   "execution_count": 8,
   "metadata": {},
   "outputs": [
    {
     "data": {
      "text/plain": [
       "{'上海': (121.48, 31.22),\n",
       " '乌鲁木齐': (87.68, 43.77),\n",
       " '兰州': (103.73, 36.03),\n",
       " '北京': (116.46, 39.92),\n",
       " '南京': (118.78, 32.04),\n",
       " '南宁': (108.33, 22.84),\n",
       " '南昌': (115.89, 28.68),\n",
       " '合肥': (117.27, 31.86),\n",
       " '呼和浩特': (111.65, 40.82),\n",
       " '哈尔滨': (126.63, 45.75),\n",
       " '嘉峪关': (98.17, 39.47),\n",
       " '天津': (117.2, 39.13),\n",
       " '太原': (112.53, 37.87),\n",
       " '广州': (113.23, 23.16),\n",
       " '成都': (104.06, 30.67),\n",
       " '拉萨': (102.73, 25.04),\n",
       " '杭州': (120.19, 30.26),\n",
       " '武汉': (114.31, 30.52),\n",
       " '沈阳': (123.38, 41.8),\n",
       " '济南': (117.0, 36.65),\n",
       " '澳门': (113.54, 22.19),\n",
       " '石家庄': (114.48, 38.03),\n",
       " '福州': (119.3, 26.08),\n",
       " '西宁': (101.74, 36.56),\n",
       " '西安': (108.95, 34.27),\n",
       " '贵阳': (106.71, 26.57),\n",
       " '郑州': (113.65, 34.76),\n",
       " '重庆': (106.54, 29.59),\n",
       " '银川': (106.27, 38.47),\n",
       " '长春': (125.35, 43.88),\n",
       " '长沙': (113.0, 28.21),\n",
       " '香港': (114.17, 22.28)}"
      ]
     },
     "execution_count": 8,
     "metadata": {},
     "output_type": "execute_result"
    }
   ],
   "source": [
    "city_info"
   ]
  },
  {
   "cell_type": "markdown",
   "metadata": {},
   "source": [
    "### 通过经纬度计算距离"
   ]
  },
  {
   "cell_type": "code",
   "execution_count": 9,
   "metadata": {},
   "outputs": [],
   "source": [
    "import math\n",
    "\n",
    "def geo_distance(origin, destination):\n",
    "    \"\"\"\n",
    "    Calculate the Haversine distance.\n",
    "\n",
    "    Parameters\n",
    "    ----------\n",
    "    origin : tuple of float\n",
    "        (lat, long)\n",
    "    destination : tuple of float\n",
    "        (lat, long)\n",
    "\n",
    "    Returns\n",
    "    -------\n",
    "    distance_in_km : float\n",
    "\n",
    "    Examples\n",
    "    --------\n",
    "    >>> origin = (48.1372, 11.5756)  # Munich\n",
    "    >>> destination = (52.5186, 13.4083)  # Berlin\n",
    "    >>> round(distance(origin, destination), 1)\n",
    "    504.2\n",
    "    \"\"\"\n",
    "    lat1, lon1 = origin\n",
    "    lat2, lon2 = destination\n",
    "    radius = 6371  # km\n",
    "\n",
    "    dlat = math.radians(lat2 - lat1)\n",
    "    dlon = math.radians(lon2 - lon1)\n",
    "    a = (math.sin(dlat / 2) * math.sin(dlat / 2) +\n",
    "         math.cos(math.radians(lat1)) * math.cos(math.radians(lat2)) *\n",
    "         math.sin(dlon / 2) * math.sin(dlon / 2))\n",
    "    c = 2 * math.atan2(math.sqrt(a), math.sqrt(1 - a))\n",
    "    d = radius * c\n",
    "\n",
    "    return d"
   ]
  },
  {
   "cell_type": "code",
   "execution_count": 11,
   "metadata": {},
   "outputs": [],
   "source": [
    "def get_city_distance(city1,city2):\n",
    "    return geo_distance(city_info[city1],city_info[city2])"
   ]
  },
  {
   "cell_type": "code",
   "execution_count": 12,
   "metadata": {},
   "outputs": [
    {
     "data": {
      "text/plain": [
       "727.52769688981"
      ]
     },
     "execution_count": 12,
     "metadata": {},
     "output_type": "execute_result"
    }
   ],
   "source": [
    "get_city_distance(\"上海\",\"北京\")"
   ]
  },
  {
   "cell_type": "markdown",
   "metadata": {},
   "source": [
    "## Draw the graph"
   ]
  },
  {
   "cell_type": "code",
   "execution_count": 24,
   "metadata": {},
   "outputs": [],
   "source": [
    "# 导入绘制地图的库\n",
    "import networkx as nx\n",
    "import matplotlib.pyplot as plt\n",
    "# 解决中文字体显示问题\n",
    "# %matplotlib inline\n",
    "# plt.rcParams['font.sans-serif'] = ['SimHei']\n",
    "# plt.rcParams['axes.unicode_minus'] = False"
   ]
  },
  {
   "cell_type": "code",
   "execution_count": 18,
   "metadata": {},
   "outputs": [
    {
     "data": {
      "text/plain": [
       "dict_keys(['兰州', '嘉峪关', '西宁', '成都', '石家庄', '拉萨', '贵阳', '武汉', '郑州', '济南', '南京', '合肥', '杭州', '南昌', '福州', '广州', '长沙', '沈阳', '长春', '哈尔滨', '太原', '西安', '北京', '上海', '重庆', '天津', '呼和浩特', '南宁', '银川', '乌鲁木齐', '香港', '澳门'])"
      ]
     },
     "execution_count": 18,
     "metadata": {},
     "output_type": "execute_result"
    }
   ],
   "source": [
    "city_info.keys()"
   ]
  },
  {
   "cell_type": "code",
   "execution_count": 19,
   "metadata": {},
   "outputs": [
    {
     "data": {
      "text/plain": [
       "dict_values([(103.73, 36.03), (98.17, 39.47), (101.74, 36.56), (104.06, 30.67), (114.48, 38.03), (102.73, 25.04), (106.71, 26.57), (114.31, 30.52), (113.65, 34.76), (117.0, 36.65), (118.78, 32.04), (117.27, 31.86), (120.19, 30.26), (115.89, 28.68), (119.3, 26.08), (113.23, 23.16), (113.0, 28.21), (123.38, 41.8), (125.35, 43.88), (126.63, 45.75), (112.53, 37.87), (108.95, 34.27), (116.46, 39.92), (121.48, 31.22), (106.54, 29.59), (117.2, 39.13), (111.65, 40.82), (108.33, 22.84), (106.27, 38.47), (87.68, 43.77), (114.17, 22.28), (113.54, 22.19)])"
      ]
     },
     "execution_count": 19,
     "metadata": {},
     "output_type": "execute_result"
    }
   ],
   "source": [
    "city_info.values()"
   ]
  },
  {
   "cell_type": "code",
   "execution_count": 20,
   "metadata": {},
   "outputs": [],
   "source": [
    "city_graph = nx.Graph()\n",
    "city_graph.add_nodes_from(list(city_info.keys()))"
   ]
  },
  {
   "cell_type": "code",
   "execution_count": 26,
   "metadata": {},
   "outputs": [
    {
     "name": "stderr",
     "output_type": "stream",
     "text": [
      "F:\\Editor\\Anaconda3\\envs\\tf-gpu\\lib\\site-packages\\networkx\\drawing\\nx_pylab.py:126: MatplotlibDeprecationWarning: pyplot.hold is deprecated.\n",
      "    Future behavior will be consistent with the long-time default:\n",
      "    plot commands add elements without first clearing the\n",
      "    Axes and/or Figure.\n",
      "  b = plt.ishold()\n",
      "F:\\Editor\\Anaconda3\\envs\\tf-gpu\\lib\\site-packages\\networkx\\drawing\\nx_pylab.py:724: MatplotlibDeprecationWarning: The is_string_like function was deprecated in version 2.1.\n",
      "  if not cb.is_string_like(label):\n",
      "F:\\Editor\\Anaconda3\\envs\\tf-gpu\\lib\\site-packages\\networkx\\drawing\\nx_pylab.py:138: MatplotlibDeprecationWarning: pyplot.hold is deprecated.\n",
      "    Future behavior will be consistent with the long-time default:\n",
      "    plot commands add elements without first clearing the\n",
      "    Axes and/or Figure.\n",
      "  plt.hold(b)\n",
      "F:\\Editor\\Anaconda3\\envs\\tf-gpu\\lib\\site-packages\\matplotlib\\__init__.py:911: MatplotlibDeprecationWarning: axes.hold is deprecated. Please remove it from your matplotlibrc and/or style files.\n",
      "  mplDeprecation)\n",
      "F:\\Editor\\Anaconda3\\envs\\tf-gpu\\lib\\site-packages\\matplotlib\\rcsetup.py:156: MatplotlibDeprecationWarning: axes.hold is deprecated, will be removed in 3.0\n",
      "  mplDeprecation)\n"
     ]
    },
    {
     "data": {
      "image/png": "[encoded data removed]",
      "text/plain": [
       "<Figure size 432x288 with 1 Axes>"
      ]
     },
     "metadata": {},
     "output_type": "display_data"
    }
   ],
   "source": [
    "nx.draw(city_graph, city_info, with_labels=True, node_size=5)"
   ]
  },
  {
   "cell_type": "code",
   "execution_count": 27,
   "metadata": {},
   "outputs": [],
   "source": [
    "# 假设两城市之间的距离是700，就是可以相连起来的\n",
    "threshold = 700 "
   ]
  },
  {
   "cell_type": "code",
   "execution_count": 29,
   "metadata": {},
   "outputs": [],
   "source": [
    "from collections import defaultdict"
   ]
  },
  {
   "cell_type": "code",
   "execution_count": 34,
   "metadata": {},
   "outputs": [],
   "source": [
    "def build_conection(city_info):\n",
    "    cities_connection = defaultdict(list)\n",
    "    cities = list(city_info.keys())\n",
    "    \n",
    "    for c1 in cities:\n",
    "        for c2 in cities:\n",
    "            if c1 == c2:continue\n",
    "            if get_city_distance(c1,c2) < threshold:\n",
    "                cities_connection[c1].append(c2)\n",
    "    return cities_connection"
   ]
  },
  {
   "cell_type": "code",
   "execution_count": 35,
   "metadata": {},
   "outputs": [],
   "source": [
    "cities_connection = build_conection(city_info)"
   ]
  },
  {
   "cell_type": "code",
   "execution_count": 36,
   "metadata": {},
   "outputs": [
    {
     "data": {
      "text/plain": [
       "defaultdict(list,\n",
       "            {'上海': ['济南', '南京', '合肥', '杭州', '南昌', '福州', '沈阳', '天津'],\n",
       "             '兰州': ['嘉峪关', '西宁', '成都', '拉萨', '贵阳', '西安', '重庆', '南宁', '银川'],\n",
       "             '北京': ['石家庄',\n",
       "              '武汉',\n",
       "              '郑州',\n",
       "              '济南',\n",
       "              '南京',\n",
       "              '合肥',\n",
       "              '杭州',\n",
       "              '南昌',\n",
       "              '长沙',\n",
       "              '太原',\n",
       "              '天津',\n",
       "              '呼和浩特'],\n",
       "             '南京': ['石家庄',\n",
       "              '武汉',\n",
       "              '郑州',\n",
       "              '济南',\n",
       "              '合肥',\n",
       "              '杭州',\n",
       "              '南昌',\n",
       "              '福州',\n",
       "              '长沙',\n",
       "              '北京',\n",
       "              '上海',\n",
       "              '天津'],\n",
       "             '南宁': ['兰州',\n",
       "              '成都',\n",
       "              '拉萨',\n",
       "              '贵阳',\n",
       "              '广州',\n",
       "              '长沙',\n",
       "              '西安',\n",
       "              '重庆',\n",
       "              '银川',\n",
       "              '香港',\n",
       "              '澳门'],\n",
       "             '南昌': ['石家庄',\n",
       "              '武汉',\n",
       "              '郑州',\n",
       "              '济南',\n",
       "              '南京',\n",
       "              '合肥',\n",
       "              '杭州',\n",
       "              '福州',\n",
       "              '广州',\n",
       "              '长沙',\n",
       "              '太原',\n",
       "              '北京',\n",
       "              '上海',\n",
       "              '天津',\n",
       "              '香港',\n",
       "              '澳门'],\n",
       "             '合肥': ['石家庄',\n",
       "              '武汉',\n",
       "              '郑州',\n",
       "              '济南',\n",
       "              '南京',\n",
       "              '杭州',\n",
       "              '南昌',\n",
       "              '福州',\n",
       "              '广州',\n",
       "              '长沙',\n",
       "              '太原',\n",
       "              '北京',\n",
       "              '上海',\n",
       "              '天津',\n",
       "              '香港',\n",
       "              '澳门'],\n",
       "             '呼和浩特': ['石家庄',\n",
       "              '武汉',\n",
       "              '郑州',\n",
       "              '济南',\n",
       "              '长沙',\n",
       "              '太原',\n",
       "              '西安',\n",
       "              '北京',\n",
       "              '重庆',\n",
       "              '天津',\n",
       "              '银川'],\n",
       "             '哈尔滨': ['沈阳', '长春'],\n",
       "             '嘉峪关': ['兰州', '西宁', '成都', '拉萨'],\n",
       "             '天津': ['石家庄',\n",
       "              '武汉',\n",
       "              '郑州',\n",
       "              '济南',\n",
       "              '南京',\n",
       "              '合肥',\n",
       "              '杭州',\n",
       "              '南昌',\n",
       "              '长沙',\n",
       "              '太原',\n",
       "              '北京',\n",
       "              '上海',\n",
       "              '呼和浩特'],\n",
       "             '太原': ['石家庄',\n",
       "              '武汉',\n",
       "              '郑州',\n",
       "              '济南',\n",
       "              '合肥',\n",
       "              '南昌',\n",
       "              '广州',\n",
       "              '长沙',\n",
       "              '西安',\n",
       "              '北京',\n",
       "              '天津',\n",
       "              '呼和浩特',\n",
       "              '银川',\n",
       "              '澳门'],\n",
       "             '广州': ['石家庄',\n",
       "              '武汉',\n",
       "              '郑州',\n",
       "              '合肥',\n",
       "              '南昌',\n",
       "              '福州',\n",
       "              '长沙',\n",
       "              '太原',\n",
       "              '西安',\n",
       "              '南宁',\n",
       "              '香港',\n",
       "              '澳门'],\n",
       "             '成都': ['兰州', '嘉峪关', '西宁', '拉萨', '贵阳', '西安', '重庆', '南宁', '银川'],\n",
       "             '拉萨': ['兰州', '嘉峪关', '西宁', '成都', '贵阳', '重庆', '南宁', '银川'],\n",
       "             '杭州': ['武汉', '济南', '南京', '合肥', '南昌', '福州', '北京', '上海', '天津'],\n",
       "             '武汉': ['石家庄',\n",
       "              '郑州',\n",
       "              '济南',\n",
       "              '南京',\n",
       "              '合肥',\n",
       "              '杭州',\n",
       "              '南昌',\n",
       "              '福州',\n",
       "              '广州',\n",
       "              '长沙',\n",
       "              '太原',\n",
       "              '西安',\n",
       "              '北京',\n",
       "              '天津',\n",
       "              '呼和浩特',\n",
       "              '香港',\n",
       "              '澳门'],\n",
       "             '沈阳': ['长春', '哈尔滨', '上海'],\n",
       "             '济南': ['石家庄',\n",
       "              '武汉',\n",
       "              '郑州',\n",
       "              '南京',\n",
       "              '合肥',\n",
       "              '杭州',\n",
       "              '南昌',\n",
       "              '福州',\n",
       "              '长沙',\n",
       "              '太原',\n",
       "              '北京',\n",
       "              '上海',\n",
       "              '天津',\n",
       "              '呼和浩特'],\n",
       "             '澳门': ['武汉',\n",
       "              '郑州',\n",
       "              '合肥',\n",
       "              '南昌',\n",
       "              '福州',\n",
       "              '广州',\n",
       "              '长沙',\n",
       "              '太原',\n",
       "              '南宁',\n",
       "              '香港'],\n",
       "             '石家庄': ['武汉',\n",
       "              '郑州',\n",
       "              '济南',\n",
       "              '南京',\n",
       "              '合肥',\n",
       "              '南昌',\n",
       "              '广州',\n",
       "              '长沙',\n",
       "              '太原',\n",
       "              '西安',\n",
       "              '北京',\n",
       "              '天津',\n",
       "              '呼和浩特'],\n",
       "             '福州': ['武汉',\n",
       "              '济南',\n",
       "              '南京',\n",
       "              '合肥',\n",
       "              '杭州',\n",
       "              '南昌',\n",
       "              '广州',\n",
       "              '上海',\n",
       "              '香港',\n",
       "              '澳门'],\n",
       "             '西宁': ['兰州', '嘉峪关', '成都', '拉萨', '贵阳', '重庆', '银川'],\n",
       "             '西安': ['兰州',\n",
       "              '成都',\n",
       "              '石家庄',\n",
       "              '贵阳',\n",
       "              '武汉',\n",
       "              '郑州',\n",
       "              '广州',\n",
       "              '长沙',\n",
       "              '太原',\n",
       "              '重庆',\n",
       "              '呼和浩特',\n",
       "              '南宁',\n",
       "              '银川'],\n",
       "             '贵阳': ['兰州', '西宁', '成都', '拉萨', '西安', '重庆', '南宁', '银川'],\n",
       "             '郑州': ['石家庄',\n",
       "              '武汉',\n",
       "              '济南',\n",
       "              '南京',\n",
       "              '合肥',\n",
       "              '南昌',\n",
       "              '广州',\n",
       "              '长沙',\n",
       "              '太原',\n",
       "              '西安',\n",
       "              '北京',\n",
       "              '天津',\n",
       "              '呼和浩特',\n",
       "              '香港',\n",
       "              '澳门'],\n",
       "             '重庆': ['兰州', '西宁', '成都', '拉萨', '贵阳', '西安', '呼和浩特', '南宁', '银川'],\n",
       "             '银川': ['兰州',\n",
       "              '西宁',\n",
       "              '成都',\n",
       "              '拉萨',\n",
       "              '贵阳',\n",
       "              '太原',\n",
       "              '西安',\n",
       "              '重庆',\n",
       "              '呼和浩特',\n",
       "              '南宁'],\n",
       "             '长春': ['沈阳', '哈尔滨'],\n",
       "             '长沙': ['石家庄',\n",
       "              '武汉',\n",
       "              '郑州',\n",
       "              '济南',\n",
       "              '南京',\n",
       "              '合肥',\n",
       "              '南昌',\n",
       "              '广州',\n",
       "              '太原',\n",
       "              '西安',\n",
       "              '北京',\n",
       "              '天津',\n",
       "              '呼和浩特',\n",
       "              '南宁',\n",
       "              '香港',\n",
       "              '澳门'],\n",
       "             '香港': ['武汉', '郑州', '合肥', '南昌', '福州', '广州', '长沙', '南宁', '澳门']})"
      ]
     },
     "execution_count": 36,
     "metadata": {},
     "output_type": "execute_result"
    }
   ],
   "source": [
    "cities_connection"
   ]
  },
  {
   "cell_type": "markdown",
   "metadata": {},
   "source": [
    "### 画出两城市之间距离小于700的图"
   ]
  },
  {
   "cell_type": "code",
   "execution_count": 37,
   "metadata": {},
   "outputs": [],
   "source": [
    "cities_connection_graph = nx.Graph(cities_connection)"
   ]
  },
  {
   "cell_type": "code",
   "execution_count": 38,
   "metadata": {},
   "outputs": [
    {
     "name": "stderr",
     "output_type": "stream",
     "text": [
      "F:\\Editor\\Anaconda3\\envs\\tf-gpu\\lib\\site-packages\\networkx\\drawing\\nx_pylab.py:126: MatplotlibDeprecationWarning: pyplot.hold is deprecated.\n",
      "    Future behavior will be consistent with the long-time default:\n",
      "    plot commands add elements without first clearing the\n",
      "    Axes and/or Figure.\n",
      "  b = plt.ishold()\n",
      "F:\\Editor\\Anaconda3\\envs\\tf-gpu\\lib\\site-packages\\networkx\\drawing\\nx_pylab.py:522: MatplotlibDeprecationWarning: The is_string_like function was deprecated in version 2.1.\n",
      "  if not cb.is_string_like(edge_color) \\\n",
      "F:\\Editor\\Anaconda3\\envs\\tf-gpu\\lib\\site-packages\\networkx\\drawing\\nx_pylab.py:543: MatplotlibDeprecationWarning: The is_string_like function was deprecated in version 2.1.\n",
      "  if cb.is_string_like(edge_color) or len(edge_color) == 1:\n",
      "F:\\Editor\\Anaconda3\\envs\\tf-gpu\\lib\\site-packages\\networkx\\drawing\\nx_pylab.py:724: MatplotlibDeprecationWarning: The is_string_like function was deprecated in version 2.1.\n",
      "  if not cb.is_string_like(label):\n",
      "F:\\Editor\\Anaconda3\\envs\\tf-gpu\\lib\\site-packages\\networkx\\drawing\\nx_pylab.py:138: MatplotlibDeprecationWarning: pyplot.hold is deprecated.\n",
      "    Future behavior will be consistent with the long-time default:\n",
      "    plot commands add elements without first clearing the\n",
      "    Axes and/or Figure.\n",
      "  plt.hold(b)\n",
      "F:\\Editor\\Anaconda3\\envs\\tf-gpu\\lib\\site-packages\\matplotlib\\__init__.py:911: MatplotlibDeprecationWarning: axes.hold is deprecated. Please remove it from your matplotlibrc and/or style files.\n",
      "  mplDeprecation)\n",
      "F:\\Editor\\Anaconda3\\envs\\tf-gpu\\lib\\site-packages\\matplotlib\\rcsetup.py:156: MatplotlibDeprecationWarning: axes.hold is deprecated, will be removed in 3.0\n",
      "  mplDeprecation)\n"
     ]
    },
    {
     "data": {
      "image/png": "[encoded data removed]",
      "text/plain": [
       "<Figure size 432x288 with 1 Axes>"
      ]
     },
     "metadata": {},
     "output_type": "display_data"
    }
   ],
   "source": [
    "nx.draw(cities_connection_graph,city_info,with_labels=True,node_size=10)"
   ]
  },
  {
   "cell_type": "markdown",
   "metadata": {},
   "source": [
    "### BFS 1.0 version for 最少转乘数"
   ]
  },
  {
   "cell_type": "code",
   "execution_count": 39,
   "metadata": {},
   "outputs": [],
   "source": [
    "def bfs(graph, start, destination):\n",
    "    pathes = [[start]]  #建立list pathes 维护搜索路径\n",
    "    visited = set()\n",
    "    \n",
    "    while pathes:\n",
    "        path = pathes.pop(0)   #拿出第一条路径\n",
    "#         检查该路径与那个节点相连\n",
    "        froniter = path[-1]\n",
    "        \n",
    "        if froniter in visited: continue\n",
    "            \n",
    "        successors = graph[froniter]\n",
    "        \n",
    "        for city in successors:\n",
    "            if city in path: continue  #检查是否是环\n",
    "                \n",
    "            new_path = path + [city]   #新拓展的路径\n",
    "            \n",
    "            pathes.append(new_path)    #将新拓展的路径放入list中\n",
    "#             检查最后的city是否为终结点，如果是就返回路径\n",
    "            if city == destination:     \n",
    "                return new_path   # 当一条路的重点是G的时候我们就返回\n",
    "        visited.add(froniter)"
   ]
  },
  {
   "cell_type": "code",
   "execution_count": 40,
   "metadata": {},
   "outputs": [
    {
     "data": {
      "text/plain": [
       "['上海', '合肥', '香港']"
      ]
     },
     "execution_count": 40,
     "metadata": {},
     "output_type": "execute_result"
    }
   ],
   "source": [
    "bfs(cities_connection,\"上海\",\"香港\")"
   ]
  },
  {
   "cell_type": "code",
   "execution_count": 41,
   "metadata": {},
   "outputs": [
    {
     "data": {
      "text/plain": [
       "['拉萨', '兰州', '西安']"
      ]
     },
     "execution_count": 41,
     "metadata": {},
     "output_type": "execute_result"
    }
   ],
   "source": [
    "bfs(cities_connection,\"拉萨\",\"西安\")"
   ]
  },
  {
   "cell_type": "markdown",
   "metadata": {},
   "source": [
    "### DFS 1.0 version "
   ]
  },
  {
   "cell_type": "code",
   "execution_count": 42,
   "metadata": {},
   "outputs": [],
   "source": [
    " def dfs(graph, start, destination):\n",
    "    pathes = [[start]]  #建立list pathes 维护搜索路径\n",
    "    visited = set()\n",
    "    \n",
    "    while pathes:\n",
    "        path = pathes.pop(0)   #拿出第一条路径\n",
    "#         检查该路径与那个节点相连\n",
    "        froniter = path[-1]\n",
    "        \n",
    "        if froniter in visited: continue\n",
    "            \n",
    "        successors = graph[froniter]\n",
    "        \n",
    "        for city in successors:\n",
    "            if city in path: continue  #检查是否是环\n",
    "                \n",
    "            new_path = path + [city]   #新拓展的路径\n",
    "            \n",
    "            pathes = [new_path] + pathes  #将新拓展的路径放至list前\n",
    "            \n",
    "#             pathes.append(new_path)    #将新拓展的路径放入list中\n",
    "#             检查最后的city是否为终结点，如果是就返回路径\n",
    "            if city == destination:     \n",
    "                return new_path\n",
    "        visited.add(froniter)"
   ]
  },
  {
   "cell_type": "code",
   "execution_count": 43,
   "metadata": {},
   "outputs": [
    {
     "data": {
      "text/plain": [
       "['上海', '天津', '呼和浩特', '银川', '南宁', '香港']"
      ]
     },
     "execution_count": 43,
     "metadata": {},
     "output_type": "execute_result"
    }
   ],
   "source": [
    "dfs(cities_connection,\"上海\",\"香港\")"
   ]
  },
  {
   "cell_type": "code",
   "execution_count": 44,
   "metadata": {},
   "outputs": [
    {
     "data": {
      "text/plain": [
       "['拉萨', '银川', '西安']"
      ]
     },
     "execution_count": 44,
     "metadata": {},
     "output_type": "execute_result"
    }
   ],
   "source": [
    "dfs(cities_connection,\"拉萨\",\"西安\")"
   ]
  },
  {
   "cell_type": "code",
   "execution_count": 45,
   "metadata": {},
   "outputs": [
    {
     "data": {
      "text/plain": [
       "['拉萨', '银川', '南宁', '澳门', '香港', '长沙', '北京']"
      ]
     },
     "execution_count": 45,
     "metadata": {},
     "output_type": "execute_result"
    }
   ],
   "source": [
    "dfs(cities_connection,\"拉萨\",\"北京\")"
   ]
  },
  {
   "cell_type": "code",
   "execution_count": 46,
   "metadata": {},
   "outputs": [
    {
     "data": {
      "text/plain": [
       "['拉萨', '重庆', '呼和浩特', '北京']"
      ]
     },
     "execution_count": 46,
     "metadata": {},
     "output_type": "execute_result"
    }
   ],
   "source": [
    "bfs(cities_connection,\"拉萨\",\"北京\")"
   ]
  },
  {
   "cell_type": "markdown",
   "metadata": {},
   "source": [
    "### BFS 2.0 version for 最短里程数"
   ]
  },
  {
   "cell_type": "code",
   "execution_count": 74,
   "metadata": {},
   "outputs": [],
   "source": [
    "def bfs_2(graph,start,destination,search_strategy):\n",
    "    pathes = [[start]]\n",
    "    \n",
    "    while pathes:\n",
    "        path = pathes.pop(0)   #path = \n",
    "        froniter = path[-1]\n",
    "        \n",
    "        successsors = graph[froniter]\n",
    "        \n",
    "        for city in successsors:\n",
    "            if city in path : continue\n",
    "                \n",
    "            new_path = path + [city]\n",
    "            \n",
    "            pathes.append(new_path)\n",
    "                \n",
    "        pathes = search_strategy(pathes)\n",
    "        \n",
    "        if pathes and (destination == pathes[0][-1]):  # 这条路经过重排后是最短的，并且最后一个点是终点\n",
    "            return pathes[0]"
   ]
  },
  {
   "cell_type": "code",
   "execution_count": 75,
   "metadata": {},
   "outputs": [],
   "source": [
    "def sort_by_distance(pathes):\n",
    "    def get_distance_of_path(path):\n",
    "        distance = 0 \n",
    "        for i,_ in enumerate(path[:-1]):\n",
    "            distance += get_city_distance(path[i],path[i+1])\n",
    "        return distance\n",
    "    return sorted(pathes,key=get_distance_of_path)"
   ]
  },
  {
   "cell_type": "code",
   "execution_count": 62,
   "metadata": {},
   "outputs": [],
   "source": [
    "def get_distance_of_path(path):\n",
    "        distance = 0 \n",
    "        for i,_ in enumerate(path[:-1]):\n",
    "            distance += get_city_distance(path[i],path[i+1])\n",
    "        return distance"
   ]
  },
  {
   "cell_type": "code",
   "execution_count": 50,
   "metadata": {},
   "outputs": [
    {
     "data": {
      "text/plain": [
       "752.66259009181"
      ]
     },
     "execution_count": 50,
     "metadata": {},
     "output_type": "execute_result"
    }
   ],
   "source": [
    "get_distance_of_path([\"北京\",\"济南\",\"上海\"])"
   ]
  },
  {
   "cell_type": "code",
   "execution_count": 51,
   "metadata": {},
   "outputs": [
    {
     "data": {
      "text/plain": [
       "732.5085345714293"
      ]
     },
     "execution_count": 51,
     "metadata": {},
     "output_type": "execute_result"
    }
   ],
   "source": [
    "get_distance_of_path([\"北京\",\"天津\",\"上海\"])"
   ]
  },
  {
   "cell_type": "code",
   "execution_count": 76,
   "metadata": {},
   "outputs": [
    {
     "data": {
      "text/plain": [
       "['北京', '天津', '上海']"
      ]
     },
     "execution_count": 76,
     "metadata": {},
     "output_type": "execute_result"
    }
   ],
   "source": [
    "bfs_2(cities_connection,\"北京\",\"上海\",search_strategy = sort_by_distance)"
   ]
  },
  {
   "cell_type": "code",
   "execution_count": 66,
   "metadata": {},
   "outputs": [
    {
     "data": {
      "text/plain": [
       "['北京', '济南', '上海']"
      ]
     },
     "execution_count": 66,
     "metadata": {},
     "output_type": "execute_result"
    }
   ],
   "source": [
    "bfs(cities_connection,\"北京\",\"上海\")"
   ]
  },
  {
   "cell_type": "code",
   "execution_count": 70,
   "metadata": {},
   "outputs": [
    {
     "data": {
      "text/plain": [
       "752.66259009181"
      ]
     },
     "execution_count": 70,
     "metadata": {},
     "output_type": "execute_result"
    }
   ],
   "source": [
    "get_distance_of_path([\"北京\",\"济南\",\"上海\"])"
   ]
  },
  {
   "cell_type": "markdown",
   "metadata": {},
   "source": [
    "# Part2"
   ]
  },
  {
   "cell_type": "markdown",
   "metadata": {},
   "source": [
    "## Machine Learning"
   ]
  },
  {
   "cell_type": "code",
   "execution_count": 77,
   "metadata": {},
   "outputs": [
    {
     "name": "stderr",
     "output_type": "stream",
     "text": [
      "F:\\Editor\\Anaconda3\\envs\\tf-gpu\\lib\\importlib\\_bootstrap.py:219: RuntimeWarning: numpy.ufunc size changed, may indicate binary incompatibility. Expected 192 from C header, got 216 from PyObject\n",
      "  return f(*args, **kwds)\n",
      "F:\\Editor\\Anaconda3\\envs\\tf-gpu\\lib\\importlib\\_bootstrap.py:219: RuntimeWarning: numpy.ufunc size changed, may indicate binary incompatibility. Expected 192 from C header, got 216 from PyObject\n",
      "  return f(*args, **kwds)\n"
     ]
    }
   ],
   "source": [
    "from sklearn.datasets import load_boston\n",
    "import random"
   ]
  },
  {
   "cell_type": "code",
   "execution_count": 78,
   "metadata": {},
   "outputs": [],
   "source": [
    "dataset = load_boston()"
   ]
  },
  {
   "cell_type": "code",
   "execution_count": 79,
   "metadata": {},
   "outputs": [
    {
     "data": {
      "text/plain": [
       "{'DESCR': \".. _boston_dataset:\\n\\nBoston house prices dataset\\n---------------------------\\n\\n**Data Set Characteristics:**  \\n\\n    :Number of Instances: 506 \\n\\n    :Number of Attributes: 13 numeric/categorical predictive. Median Value (attribute 14) is usually the target.\\n\\n    :Attribute Information (in order):\\n        - CRIM     per capita crime rate by town\\n        - ZN       proportion of residential land zoned for lots over 25,000 sq.ft.\\n        - INDUS    proportion of non-retail business acres per town\\n        - CHAS     Charles River dummy variable (= 1 if tract bounds river; 0 otherwise)\\n        - NOX      nitric oxides concentration (parts per 10 million)\\n        - RM       average number of rooms per dwelling\\n        - AGE      proportion of owner-occupied units built prior to 1940\\n        - DIS      weighted distances to five Boston employment centres\\n        - RAD      index of accessibility to radial highways\\n        - TAX      full-value property-tax rate per $10,000\\n        - PTRATIO  pupil-teacher ratio by town\\n        - B        1000(Bk - 0.63)^2 where Bk is the proportion of blacks by town\\n        - LSTAT    % lower status of the population\\n        - MEDV     Median value of owner-occupied homes in $1000's\\n\\n    :Missing Attribute Values: None\\n\\n    :Creator: Harrison, D. and Rubinfeld, D.L.\\n\\nThis is a copy of UCI ML housing dataset.\\nhttps://archive.ics.uci.edu/ml/machine-learning-databases/housing/\\n\\n\\nThis dataset was taken from the StatLib library which is maintained at Carnegie Mellon University.\\n\\nThe Boston house-price data of Harrison, D. and Rubinfeld, D.L. 'Hedonic\\nprices and the demand for clean air', J. Environ. Economics & Management,\\nvol.5, 81-102, 1978.   Used in Belsley, Kuh & Welsch, 'Regression diagnostics\\n...', Wiley, 1980.   N.B. Various transformations are used in the table on\\npages 244-261 of the latter.\\n\\nThe Boston house-price data has been used in many machine learning papers that address regression\\nproblems.   \\n     \\n.. topic:: References\\n\\n   - Belsley, Kuh & Welsch, 'Regression diagnostics: Identifying Influential Data and Sources of Collinearity', Wiley, 1980. 244-261.\\n   - Quinlan,R. (1993). Combining Instance-Based and Model-Based Learning. In Proceedings on the Tenth International Conference of Machine Learning, 236-243, University of Massachusetts, Amherst. Morgan Kaufmann.\\n\",\n",
       " 'data': array([[6.3200e-03, 1.8000e+01, 2.3100e+00, ..., 1.5300e+01, 3.9690e+02,\n",
       "         4.9800e+00],\n",
       "        [2.7310e-02, 0.0000e+00, 7.0700e+00, ..., 1.7800e+01, 3.9690e+02,\n",
       "         9.1400e+00],\n",
       "        [2.7290e-02, 0.0000e+00, 7.0700e+00, ..., 1.7800e+01, 3.9283e+02,\n",
       "         4.0300e+00],\n",
       "        ...,\n",
       "        [6.0760e-02, 0.0000e+00, 1.1930e+01, ..., 2.1000e+01, 3.9690e+02,\n",
       "         5.6400e+00],\n",
       "        [1.0959e-01, 0.0000e+00, 1.1930e+01, ..., 2.1000e+01, 3.9345e+02,\n",
       "         6.4800e+00],\n",
       "        [4.7410e-02, 0.0000e+00, 1.1930e+01, ..., 2.1000e+01, 3.9690e+02,\n",
       "         7.8800e+00]]),\n",
       " 'feature_names': array(['CRIM', 'ZN', 'INDUS', 'CHAS', 'NOX', 'RM', 'AGE', 'DIS', 'RAD',\n",
       "        'TAX', 'PTRATIO', 'B', 'LSTAT'], dtype='<U7'),\n",
       " 'filename': 'F:\\\\Editor\\\\Anaconda3\\\\envs\\\\tf-gpu\\\\lib\\\\site-packages\\\\sklearn\\\\datasets\\\\data\\\\boston_house_prices.csv',\n",
       " 'target': array([24. , 21.6, 34.7, 33.4, 36.2, 28.7, 22.9, 27.1, 16.5, 18.9, 15. ,\n",
       "        18.9, 21.7, 20.4, 18.2, 19.9, 23.1, 17.5, 20.2, 18.2, 13.6, 19.6,\n",
       "        15.2, 14.5, 15.6, 13.9, 16.6, 14.8, 18.4, 21. , 12.7, 14.5, 13.2,\n",
       "        13.1, 13.5, 18.9, 20. , 21. , 24.7, 30.8, 34.9, 26.6, 25.3, 24.7,\n",
       "        21.2, 19.3, 20. , 16.6, 14.4, 19.4, 19.7, 20.5, 25. , 23.4, 18.9,\n",
       "        35.4, 24.7, 31.6, 23.3, 19.6, 18.7, 16. , 22.2, 25. , 33. , 23.5,\n",
       "        19.4, 22. , 17.4, 20.9, 24.2, 21.7, 22.8, 23.4, 24.1, 21.4, 20. ,\n",
       "        20.8, 21.2, 20.3, 28. , 23.9, 24.8, 22.9, 23.9, 26.6, 22.5, 22.2,\n",
       "        23.6, 28.7, 22.6, 22. , 22.9, 25. , 20.6, 28.4, 21.4, 38.7, 43.8,\n",
       "        33.2, 27.5, 26.5, 18.6, 19.3, 20.1, 19.5, 19.5, 20.4, 19.8, 19.4,\n",
       "        21.7, 22.8, 18.8, 18.7, 18.5, 18.3, 21.2, 19.2, 20.4, 19.3, 22. ,\n",
       "        20.3, 20.5, 17.3, 18.8, 21.4, 15.7, 16.2, 18. , 14.3, 19.2, 19.6,\n",
       "        23. , 18.4, 15.6, 18.1, 17.4, 17.1, 13.3, 17.8, 14. , 14.4, 13.4,\n",
       "        15.6, 11.8, 13.8, 15.6, 14.6, 17.8, 15.4, 21.5, 19.6, 15.3, 19.4,\n",
       "        17. , 15.6, 13.1, 41.3, 24.3, 23.3, 27. , 50. , 50. , 50. , 22.7,\n",
       "        25. , 50. , 23.8, 23.8, 22.3, 17.4, 19.1, 23.1, 23.6, 22.6, 29.4,\n",
       "        23.2, 24.6, 29.9, 37.2, 39.8, 36.2, 37.9, 32.5, 26.4, 29.6, 50. ,\n",
       "        32. , 29.8, 34.9, 37. , 30.5, 36.4, 31.1, 29.1, 50. , 33.3, 30.3,\n",
       "        34.6, 34.9, 32.9, 24.1, 42.3, 48.5, 50. , 22.6, 24.4, 22.5, 24.4,\n",
       "        20. , 21.7, 19.3, 22.4, 28.1, 23.7, 25. , 23.3, 28.7, 21.5, 23. ,\n",
       "        26.7, 21.7, 27.5, 30.1, 44.8, 50. , 37.6, 31.6, 46.7, 31.5, 24.3,\n",
       "        31.7, 41.7, 48.3, 29. , 24. , 25.1, 31.5, 23.7, 23.3, 22. , 20.1,\n",
       "        22.2, 23.7, 17.6, 18.5, 24.3, 20.5, 24.5, 26.2, 24.4, 24.8, 29.6,\n",
       "        42.8, 21.9, 20.9, 44. , 50. , 36. , 30.1, 33.8, 43.1, 48.8, 31. ,\n",
       "        36.5, 22.8, 30.7, 50. , 43.5, 20.7, 21.1, 25.2, 24.4, 35.2, 32.4,\n",
       "        32. , 33.2, 33.1, 29.1, 35.1, 45.4, 35.4, 46. , 50. , 32.2, 22. ,\n",
       "        20.1, 23.2, 22.3, 24.8, 28.5, 37.3, 27.9, 23.9, 21.7, 28.6, 27.1,\n",
       "        20.3, 22.5, 29. , 24.8, 22. , 26.4, 33.1, 36.1, 28.4, 33.4, 28.2,\n",
       "        22.8, 20.3, 16.1, 22.1, 19.4, 21.6, 23.8, 16.2, 17.8, 19.8, 23.1,\n",
       "        21. , 23.8, 23.1, 20.4, 18.5, 25. , 24.6, 23. , 22.2, 19.3, 22.6,\n",
       "        19.8, 17.1, 19.4, 22.2, 20.7, 21.1, 19.5, 18.5, 20.6, 19. , 18.7,\n",
       "        32.7, 16.5, 23.9, 31.2, 17.5, 17.2, 23.1, 24.5, 26.6, 22.9, 24.1,\n",
       "        18.6, 30.1, 18.2, 20.6, 17.8, 21.7, 22.7, 22.6, 25. , 19.9, 20.8,\n",
       "        16.8, 21.9, 27.5, 21.9, 23.1, 50. , 50. , 50. , 50. , 50. , 13.8,\n",
       "        13.8, 15. , 13.9, 13.3, 13.1, 10.2, 10.4, 10.9, 11.3, 12.3,  8.8,\n",
       "         7.2, 10.5,  7.4, 10.2, 11.5, 15.1, 23.2,  9.7, 13.8, 12.7, 13.1,\n",
       "        12.5,  8.5,  5. ,  6.3,  5.6,  7.2, 12.1,  8.3,  8.5,  5. , 11.9,\n",
       "        27.9, 17.2, 27.5, 15. , 17.2, 17.9, 16.3,  7. ,  7.2,  7.5, 10.4,\n",
       "         8.8,  8.4, 16.7, 14.2, 20.8, 13.4, 11.7,  8.3, 10.2, 10.9, 11. ,\n",
       "         9.5, 14.5, 14.1, 16.1, 14.3, 11.7, 13.4,  9.6,  8.7,  8.4, 12.8,\n",
       "        10.5, 17.1, 18.4, 15.4, 10.8, 11.8, 14.9, 12.6, 14.1, 13. , 13.4,\n",
       "        15.2, 16.1, 17.8, 14.9, 14.1, 12.7, 13.5, 14.9, 20. , 16.4, 17.7,\n",
       "        19.5, 20.2, 21.4, 19.9, 19. , 19.1, 19.1, 20.1, 19.9, 19.6, 23.2,\n",
       "        29.8, 13.8, 13.3, 16.7, 12. , 14.6, 21.4, 23. , 23.7, 25. , 21.8,\n",
       "        20.6, 21.2, 19.1, 20.6, 15.2,  7. ,  8.1, 13.6, 20.1, 21.8, 24.5,\n",
       "        23.1, 19.7, 18.3, 21.2, 17.5, 16.8, 22.4, 20.6, 23.9, 22. , 11.9])}"
      ]
     },
     "execution_count": 79,
     "metadata": {},
     "output_type": "execute_result"
    }
   ],
   "source": [
    "# dataset"
   ]
  },
  {
   "cell_type": "code",
   "execution_count": 80,
   "metadata": {},
   "outputs": [],
   "source": [
    "x,y=dataset['data'],dataset['target']"
   ]
  },
  {
   "cell_type": "code",
   "execution_count": 81,
   "metadata": {},
   "outputs": [
    {
     "data": {
      "text/plain": [
       "(506, 13)"
      ]
     },
     "execution_count": 81,
     "metadata": {},
     "output_type": "execute_result"
    }
   ],
   "source": [
    "x.shape"
   ]
  },
  {
   "cell_type": "code",
   "execution_count": 82,
   "metadata": {},
   "outputs": [
    {
     "data": {
      "text/plain": [
       "(506,)"
      ]
     },
     "execution_count": 82,
     "metadata": {},
     "output_type": "execute_result"
    }
   ],
   "source": [
    "y.shape"
   ]
  },
  {
   "cell_type": "code",
   "execution_count": 83,
   "metadata": {},
   "outputs": [
    {
     "data": {
      "text/plain": [
       "array([2.7310e-02, 0.0000e+00, 7.0700e+00, 0.0000e+00, 4.6900e-01,\n",
       "       6.4210e+00, 7.8900e+01, 4.9671e+00, 2.0000e+00, 2.4200e+02,\n",
       "       1.7800e+01, 3.9690e+02, 9.1400e+00])"
      ]
     },
     "execution_count": 83,
     "metadata": {},
     "output_type": "execute_result"
    }
   ],
   "source": [
    "x[1].shape\n",
    "x[1]"
   ]
  },
  {
   "cell_type": "code",
   "execution_count": 84,
   "metadata": {},
   "outputs": [
    {
     "data": {
      "text/plain": [
       "array(['CRIM', 'ZN', 'INDUS', 'CHAS', 'NOX', 'RM', 'AGE', 'DIS', 'RAD',\n",
       "       'TAX', 'PTRATIO', 'B', 'LSTAT'], dtype='<U7')"
      ]
     },
     "execution_count": 84,
     "metadata": {},
     "output_type": "execute_result"
    }
   ],
   "source": [
    "dataset.feature_names"
   ]
  },
  {
   "cell_type": "code",
   "execution_count": 85,
   "metadata": {},
   "outputs": [
    {
     "data": {
      "text/plain": [
       "\".. _boston_dataset:\\n\\nBoston house prices dataset\\n---------------------------\\n\\n**Data Set Characteristics:**  \\n\\n    :Number of Instances: 506 \\n\\n    :Number of Attributes: 13 numeric/categorical predictive. Median Value (attribute 14) is usually the target.\\n\\n    :Attribute Information (in order):\\n        - CRIM     per capita crime rate by town\\n        - ZN       proportion of residential land zoned for lots over 25,000 sq.ft.\\n        - INDUS    proportion of non-retail business acres per town\\n        - CHAS     Charles River dummy variable (= 1 if tract bounds river; 0 otherwise)\\n        - NOX      nitric oxides concentration (parts per 10 million)\\n        - RM       average number of rooms per dwelling\\n        - AGE      proportion of owner-occupied units built prior to 1940\\n        - DIS      weighted distances to five Boston employment centres\\n        - RAD      index of accessibility to radial highways\\n        - TAX      full-value property-tax rate per $10,000\\n        - PTRATIO  pupil-teacher ratio by town\\n        - B        1000(Bk - 0.63)^2 where Bk is the proportion of blacks by town\\n        - LSTAT    % lower status of the population\\n        - MEDV     Median value of owner-occupied homes in $1000's\\n\\n    :Missing Attribute Values: None\\n\\n    :Creator: Harrison, D. and Rubinfeld, D.L.\\n\\nThis is a copy of UCI ML housing dataset.\\nhttps://archive.ics.uci.edu/ml/machine-learning-databases/housing/\\n\\n\\nThis dataset was taken from the StatLib library which is maintained at Carnegie Mellon University.\\n\\nThe Boston house-price data of Harrison, D. and Rubinfeld, D.L. 'Hedonic\\nprices and the demand for clean air', J. Environ. Economics & Management,\\nvol.5, 81-102, 1978.   Used in Belsley, Kuh & Welsch, 'Regression diagnostics\\n...', Wiley, 1980.   N.B. Various transformations are used in the table on\\npages 244-261 of the latter.\\n\\nThe Boston house-price data has been used in many machine learning papers that address regression\\nproblems.   \\n     \\n.. topic:: References\\n\\n   - Belsley, Kuh & Welsch, 'Regression diagnostics: Identifying Influential Data and Sources of Collinearity', Wiley, 1980. 244-261.\\n   - Quinlan,R. (1993). Combining Instance-Based and Model-Based Learning. In Proceedings on the Tenth International Conference of Machine Learning, 236-243, University of Massachusetts, Amherst. Morgan Kaufmann.\\n\""
      ]
     },
     "execution_count": 85,
     "metadata": {},
     "output_type": "execute_result"
    }
   ],
   "source": [
    "dataset['DESCR']"
   ]
  },
  {
   "cell_type": "code",
   "execution_count": 86,
   "metadata": {},
   "outputs": [],
   "source": [
    "X_rm = x[:,5]"
   ]
  },
  {
   "cell_type": "code",
   "execution_count": 88,
   "metadata": {},
   "outputs": [
    {
     "data": {
      "text/plain": [
       "(506,)"
      ]
     },
     "execution_count": 88,
     "metadata": {},
     "output_type": "execute_result"
    }
   ],
   "source": [
    "X_rm.shape"
   ]
  },
  {
   "cell_type": "code",
   "execution_count": 87,
   "metadata": {},
   "outputs": [
    {
     "data": {
      "text/plain": [
       "<matplotlib.collections.PathCollection at 0x1c793122c88>"
      ]
     },
     "execution_count": 87,
     "metadata": {},
     "output_type": "execute_result"
    },
    {
     "data": {
      "image/png": "[encoded data removed]",
      "text/plain": [
       "<Figure size 432x288 with 1 Axes>"
      ]
     },
     "metadata": {
      "needs_background": "light"
     },
     "output_type": "display_data"
    }
   ],
   "source": [
    "# plot the RM with respect to y\n",
    "plt.scatter(X_rm,y)"
   ]
  },
  {
   "cell_type": "markdown",
   "metadata": {},
   "source": [
    "### Gradient descent"
   ]
  },
  {
   "cell_type": "markdown",
   "metadata": {},
   "source": [
    "### Assume that the target funciton is a linear function\n",
    "$$ y = k*rm + b$$"
   ]
  },
  {
   "cell_type": "code",
   "execution_count": 89,
   "metadata": {},
   "outputs": [],
   "source": [
    "#define target function\n",
    "def price(rm, k, b):\n",
    "    return k * rm + b "
   ]
  },
  {
   "cell_type": "markdown",
   "metadata": {},
   "source": [
    "### Define mean square loss\n",
    "$$ loss = \\frac{1}{n} \\sum{(y_i - \\hat{y_i})}^2$$\n",
    "$$ loss = \\frac{1}{n} \\sum{(y_i - (kx_i + b_i))}^2 $$"
   ]
  },
  {
   "cell_type": "code",
   "execution_count": null,
   "metadata": {},
   "outputs": [],
   "source": []
  },
  {
   "cell_type": "code",
   "execution_count": 90,
   "metadata": {},
   "outputs": [],
   "source": [
    "# define loss function \n",
    "def loss(y,y_hat):\n",
    "    return sum((y_i - y_hat_i)**2 for y_i, y_hat_i in zip(list(y),list(y_hat)))/len(list(y))"
   ]
  },
  {
   "cell_type": "markdown",
   "metadata": {},
   "source": [
    "### Define partial derivatives\n",
    "$$ \\frac{\\partial{loss}}{\\partial{k}} = -\\frac{2}{n}\\sum(y_i - \\hat{y_i})x_i$$\n"
   ]
  },
  {
   "cell_type": "markdown",
   "metadata": {},
   "source": [
    "$$ \\frac{\\partial{loss}}{\\partial{b}} = -\\frac{2}{n}\\sum(y_i - \\hat{y_i})$$"
   ]
  },
  {
   "cell_type": "code",
   "execution_count": 92,
   "metadata": {},
   "outputs": [],
   "source": [
    "# define partial derivative \n",
    "def partial_derivative_k(x, y, y_hat):\n",
    "    n = len(y)\n",
    "    gradient = 0\n",
    "    for x_i, y_i, y_hat_i in zip(list(x),list(y),list(y_hat)):\n",
    "        gradient += (y_i-y_hat_i) * x_i\n",
    "    return -2/n * gradient\n",
    "\n",
    "def partial_derivative_b(y, y_hat):\n",
    "    n = len(y)\n",
    "    gradient = 0\n",
    "    for y_i, y_hat_i in zip(list(y),list(y_hat)):\n",
    "        gradient += (y_i-y_hat_i)\n",
    "    return -2 / n * gradient"
   ]
  },
  {
   "cell_type": "code",
   "execution_count": 97,
   "metadata": {},
   "outputs": [
    {
     "name": "stdout",
     "output_type": "stream",
     "text": [
      "Iteration 0, the loss is 18061.73186835296, parameters k is 19.232638819866594 and b is 35.705857177510865\n",
      "Iteration 1, the loss is 15238.137907507544, parameters k is 17.537831860892005 and b is 35.43777086923036\n",
      "Iteration 2, the loss is 12858.391736306314, parameters k is 15.981942922010541 and b is 35.19152321775501\n",
      "Iteration 3, the loss is 10852.723745779935, parameters k is 14.55358703167888 and b is 34.965324447839\n",
      "Iteration 4, the loss is 9162.331596484131, parameters k is 13.242312269165005 and b is 34.75753146455433\n",
      "Iteration 5, the loss is 7737.656244371012, parameters k is 12.038523296740332 and b is 34.566635832163755\n",
      "Iteration 6, the loss is 6536.928962717175, parameters k is 10.93341115876062 and b is 34.39125273818039\n",
      "Iteration 7, the loss is 5524.9467615213225, parameters k is 9.918888834035245 and b is 34.23011086187345\n",
      "Iteration 8, the loss is 4672.040301968324, parameters k is 8.987532069976405 and b is 34.08204307309653\n",
      "Iteration 9, the loss is 3953.204047150852, parameters k is 8.13252506566208 and b is 33.94597789338975\n",
      "Iteration 10, the loss is 3347.3631467016544, parameters k is 7.347610606421936 and b is 33.82093165688387\n",
      "Iteration 11, the loss is 2836.7555617711573, parameters k is 6.627044285123414 and b is 33.70600131365435\n",
      "Iteration 12, the loss is 2406.41131541549, parameters k is 5.965552475234074 and b is 33.60035782287368\n",
      "Iteration 13, the loss is 2043.7136009944832, parameters k is 5.358293748184897 and b is 33.50324008742534\n",
      "Iteration 14, the loss is 1738.0288811024172, parameters k is 4.800823452758226 and b is 33.41394938560396\n",
      "Iteration 15, the loss is 1480.395132227034, parameters k is 4.2890611973578565 and b is 33.33184425916336\n",
      "Iteration 16, the loss is 1263.2590950558613, parameters k is 3.819260997256754 and b is 33.256335820312515\n",
      "Iteration 17, the loss is 1080.2548271024284, parameters k is 3.387983868415188 and b is 33.186883443324845\n",
      "Iteration 18, the loss is 926.0170652313649, parameters k is 2.9920726673616014 and b is 33.122990809239944\n",
      "Iteration 19, the loss is 796.0239262222516, parameters k is 2.628628993061029 and b is 33.064202274720174\n",
      "Iteration 20, the loss is 686.4643336482264, parameters k is 2.2949919817816884 and b is 33.01009953849619\n",
      "Iteration 21, the loss is 594.1262842744885, parameters k is 1.9887188398198499 and b is 32.960298581012616\n",
      "Iteration 22, the loss is 516.3026781573927, parameters k is 1.7075669716574815 and b is 32.9144468548838\n",
      "Iteration 23, the loss is 450.7119515595589, parameters k is 1.4494775727996263 and b is 32.87222070560468\n",
      "Iteration 24, the loss is 395.43118578714245, parameters k is 1.2125605672542596 and b is 32.83332300364627\n",
      "Iteration 25, the loss is 348.8397308260562, parameters k is 0.9950807794549926 and b is 32.79748097061177\n",
      "Iteration 26, the loss is 309.57169092804185, parameters k is 0.79544523945834 and b is 32.76444418354926\n",
      "Iteration 27, the loss is 276.4758791132512, parameters k is 0.6121915285385002 and b is 32.73398274282007\n",
      "Iteration 28, the loss is 248.58206653057135, parameters k is 0.44397707991427166 and b is 32.705885590118854\n",
      "Iteration 29, the loss is 225.07253717034527, parameters k is 0.2895693563306384 and b is 32.67995896433958\n",
      "Iteration 30, the loss is 205.25811396709582, parameters k is 0.1478368326327457 and b is 32.65602498399049\n",
      "Iteration 31, the loss is 188.55795342262797, parameters k is 0.017740717359437552 and b is 32.63392034578657\n",
      "Iteration 32, the loss is 174.4825163658123, parameters k is -0.10167264720969982 and b is 32.613495129898475\n",
      "Iteration 33, the loss is 162.6192155837148, parameters k is -0.2112787621561747 and b is 32.59461170311671\n",
      "Iteration 34, the loss is 152.6203195395864, parameters k is -0.3118813772188231 and b is 32.57714371190663\n",
      "Iteration 35, the loss is 144.19275753743855, parameters k is -0.4042183711465382 and b is 32.56097515798712\n",
      "Iteration 36, the loss is 137.0895274397888, parameters k is -0.4889671501290325 and b is 32.545999549669986\n",
      "Iteration 37, the loss is 131.10245402899804, parameters k is -0.5667496038013558 and b is 32.53211912275084\n",
      "Iteration 38, the loss is 126.05608570096015, parameters k is -0.6381366550810351 and b is 32.519244125251696\n",
      "Iteration 39, the loss is 121.80255055366516, parameters k is -0.7036524371251235 and b is 32.507292160782114\n",
      "Iteration 40, the loss is 118.21722106081982, parameters k is -0.7637781279663955 and b is 32.49618758571497\n",
      "Iteration 41, the loss is 115.19506022689639, parameters k is -0.8189554708834607 and b is 32.48586095576641\n",
      "Iteration 42, the loss is 112.64754209974306, parameters k is -0.8695900062603442 and b is 32.47624851793115\n",
      "Iteration 43, the loss is 110.50005635596763, parameters k is -0.9160540385803035 and b is 32.46729174405599\n",
      "Iteration 44, the loss is 108.68972086641656, parameters k is -0.9586893602608465 and b is 32.45893690263917\n",
      "Iteration 45, the loss is 107.16353811027577, parameters k is -0.9978097522579352 and b is 32.45113466572268\n",
      "Iteration 46, the loss is 105.87684138731997, parameters k is -1.0337032797341679 and b is 32.4438397480016\n",
      "Iteration 47, the loss is 104.79198527417097, parameters k is -1.0666343995863878 and b is 32.437010575510094\n",
      "Iteration 48, the loss is 103.87724193120404, parameters k is -1.0968458952517075 and b is 32.43060898146004\n",
      "Iteration 49, the loss is 103.10587090189223, parameters k is -1.1245606529472731 and b is 32.42459992700719\n",
      "Iteration 50, the loss is 102.45533513285604, parameters k is -1.1499832923390083 and b is 32.41895124490175\n",
      "Iteration 51, the loss is 101.9066402297942, parameters k is -1.173301663569548 and b is 32.413633404147994\n",
      "Iteration 52, the loss is 101.44377757752633, parameters k is -1.194688221597845 and b is 32.40861929395113\n",
      "Iteration 53, the loss is 101.05325499746839, parameters k is -1.2143012879053219 and b is 32.40388402537069\n",
      "Iteration 54, the loss is 100.7237011823028, parameters k is -1.232286208799395 and b is 32.39940474922932\n",
      "Iteration 55, the loss is 100.44553231061039, parameters k is -1.2487764187886974 and b is 32.39516048894484\n",
      "Iteration 56, the loss is 100.21067106722911, parameters k is -1.2638944168098045 and b is 32.39113198706244\n",
      "Iteration 57, the loss is 100.012309831549, parameters k is -1.2777526624476918 and b is 32.387301564364265\n",
      "Iteration 58, the loss is 99.84471109086286, parameters k is -1.2904543987067978 and b is 32.383652990525654\n",
      "Iteration 59, the loss is 99.70303922727366, parameters k is -1.302094407352214 and b is 32.380171365371666\n",
      "Iteration 60, the loss is 99.58321874646101, parameters k is -1.312759702347188 and b is 32.37684300986519\n",
      "Iteration 61, the loss is 99.4818147918444, parameters k is -1.3225301664602311 and b is 32.373655366029084\n",
      "Iteration 62, the loss is 99.39593244104056, parameters k is -1.3314791356993452 and b is 32.37059690507014\n",
      "Iteration 63, the loss is 99.32313183217838, parameters k is -1.3396739358491738 and b is 32.367657043032736\n",
      "Iteration 64, the loss is 99.26135663173177, parameters k is -1.3471763750364658 and b is 32.364826063365044\n",
      "Iteration 65, the loss is 99.20887374668403, parameters k is -1.354043195927532 and b is 32.362095045831296\n",
      "Iteration 66, the loss is 99.16422251349681, parameters k is -1.3603264908660386 and b is 32.35945580125003\n",
      "Iteration 67, the loss is 99.12617187419879, parameters k is -1.3660740829883489 and b is 32.35690081158079\n",
      "Iteration 68, the loss is 99.09368428407896, parameters k is -1.3713298761047088 and b is 32.35442317492109\n",
      "Iteration 69, the loss is 99.06588529282529, parameters k is -1.3761341759060581 and b is 32.352016555011005\n",
      "Iteration 70, the loss is 99.04203790728377, parameters k is -1.3805239848464665 and b is 32.34967513487622\n",
      "Iteration 71, the loss is 99.02152098420457, parameters k is -1.384533272858597 and b is 32.34739357427015\n",
      "Iteration 72, the loss is 99.00381101948838, parameters k is -1.3881932258827896 and b is 32.34516697060391\n",
      "Iteration 73, the loss is 98.98846680003008, parameters k is -1.3915324740280446 and b is 32.34299082307827\n",
      "Iteration 74, the loss is 98.97511646817982, parameters k is -1.3945773010341633 and b is 32.340860999755115\n",
      "Iteration 75, the loss is 98.96344661957463, parameters k is -1.3973518365675008 and b is 32.338773707327626\n",
      "Iteration 76, the loss is 98.95319311471272, parameters k is -1.3998782327571986 and b is 32.336725463367834\n",
      "Iteration 77, the loss is 98.94413333487807, parameters k is -1.4021768262634595 and b is 32.3347130708487\n",
      "Iteration 78, the loss is 98.93607965537949, parameters k is -1.404266287063582 and b is 32.33273359475419\n",
      "Iteration 79, the loss is 98.92887394474653, parameters k is -1.4061637550442945 and b is 32.33078434060626\n",
      "Iteration 80, the loss is 98.92238292861227, parameters k is -1.407884965399718 and b is 32.32886283475167\n",
      "Iteration 81, the loss is 98.9164942823594, parameters k is -1.4094443637523915 and b is 32.32696680626436\n",
      "Iteration 82, the loss is 98.91111333797323, parameters k is -1.4108552118395956 and b is 32.32509417033105\n",
      "Iteration 83, the loss is 98.90616030855439, parameters k is -1.4121296845381992 and b is 32.32324301299841\n",
      "Iteration 84, the loss is 98.90156794911631, parameters k is -1.413278958937871 and b is 32.32141157717033\n",
      "Iteration 85, the loss is 98.89727958508873, parameters k is -1.4143132961143328 and b is 32.31959824975274\n",
      "Iteration 86, the loss is 98.89324745072635, parameters k is -1.415242116200918 and b is 32.31780154985195\n",
      "Iteration 87, the loss is 98.88943128870679, parameters k is -1.4160740673076702 and b is 32.316020117940276\n",
      "Iteration 88, the loss is 98.88579716986177, parameters k is -1.416817088792204 and b is 32.314252705909496\n",
      "Iteration 89, the loss is 98.88231649843789, parameters k is -1.4174784693452296 and b is 32.31249816793952\n",
      "Iteration 90, the loss is 98.87896517372278, parameters k is -1.4180649003156987 and b is 32.31075545211542\n",
      "Iteration 91, the loss is 98.875722883458, parameters k is -1.4185825246657109 and b is 32.30902359273146\n",
      "Iteration 92, the loss is 98.87257250832192, parameters k is -1.4190369819133402 and b is 32.30730170322584\n",
      "Iteration 93, the loss is 98.86949962002323, parameters k is -1.4194334493921896 and b is 32.30558896969452\n",
      "Iteration 94, the loss is 98.86649205829107, parameters k is -1.4197766801295353 and b is 32.303884644936566\n",
      "Iteration 95, the loss is 98.86353957435878, parameters k is -1.4200710376201828 and b is 32.30218804298752\n",
      "Iteration 96, the loss is 98.86063353048942, parameters k is -1.4203205277504458 and b is 32.30049853410078\n",
      "Iteration 97, the loss is 98.85776664673384, parameters k is -1.4205288281058077 and b is 32.298815540140325\n",
      "Iteration 98, the loss is 98.85493278749657, parameters k is -1.420699314876685 and b is 32.29713853035094\n",
      "Iteration 99, the loss is 98.85212678165138, parameters k is -1.4208350875591411 and b is 32.29546701747518\n",
      "Iteration 100, the loss is 98.8493442709343, parameters k is -1.4209389916312607 and b is 32.293800554188515\n",
      "Iteration 101, the loss is 98.84658158216733, parameters k is -1.4210136393710926 and b is 32.292138729826625\n",
      "Iteration 102, the loss is 98.84383561956842, parameters k is -1.4210614289684662 and b is 32.29048116738097\n",
      "Iteration 103, the loss is 98.841103773988, parameters k is -1.421084562070506 and b is 32.2888275207405\n",
      "Iteration 104, the loss is 98.83838384641535, parameters k is -1.4210850598892102 and b is 32.287177472159485\n",
      "Iteration 105, the loss is 98.83567398350702, parameters k is -1.421064777988941 and b is 32.28553072993285\n",
      "Iteration 106, the loss is 98.83297262325001, parameters k is -1.4210254198620091 and b is 32.283887026262015\n",
      "Iteration 107, the loss is 98.83027844916812, parameters k is -1.4209685493916795 and b is 32.28224611529564\n",
      "Iteration 108, the loss is 98.82759035172371, parameters k is -1.4208956022937744 and b is 32.28060777133098\n",
      "Iteration 109, the loss is 98.82490739579012, parameters k is -1.4208078966205855 and b is 32.27897178716256\n",
      "Iteration 110, the loss is 98.82222879323437, parameters k is -1.4207066424039412 and b is 32.2773379725663\n",
      "Iteration 111, the loss is 98.81955387981087, parameters k is -1.420592950507981 and b is 32.27570615290777\n",
      "Iteration 112, the loss is 98.81688209568844, parameters k is -1.4204678407564046 and b is 32.274076167864564\n",
      "Iteration 113, the loss is 98.81421296903562, parameters k is -1.420332249393654 and b is 32.272447870253345\n",
      "Iteration 114, the loss is 98.81154610218871, parameters k is -1.4201870359346185 and b is 32.270821124953066\n",
      "Iteration 115, the loss is 98.80888115999245, parameters k is -1.4200329894529746 and b is 32.2691958079164\n",
      "Iteration 116, the loss is 98.80621785997523, parameters k is -1.4198708343541684 and b is 32.267571805262165\n",
      "Iteration 117, the loss is 98.80355596406656, parameters k is -1.4197012356752732 and b is 32.26594901244222\n",
      "Iteration 118, the loss is 98.80089527161785, parameters k is -1.4195248039505022 and b is 32.26432733347654\n",
      "Iteration 119, the loss is 98.7982356135198, parameters k is -1.419342099677968 and b is 32.262706680251014\n",
      "Iteration 120, the loss is 98.79557684724578, parameters k is -1.4191536374203717 and b is 32.261086971872835\n",
      "Iteration 121, the loss is 98.79291885267116, parameters k is -1.4189598895696207 and b is 32.259468134078645\n",
      "Iteration 122, the loss is 98.790261528554, parameters k is -1.4187612898029198 and b is 32.257850098691236\n",
      "Iteration 123, the loss is 98.78760478956542, parameters k is -1.4185582362556193 and b is 32.25623280312075\n",
      "Iteration 124, the loss is 98.78494856378877, parameters k is -1.4183510944340332 and b is 32.2546161899068\n",
      "Iteration 125, the loss is 98.7822927906111, parameters k is -1.4181401998895389 and b is 32.25300020629804\n",
      "Iteration 126, the loss is 98.77963741894666, parameters k is -1.4179258606735223 and b is 32.25138480386629\n",
      "Iteration 127, the loss is 98.77698240573856, parameters k is -1.4177083595911288 and b is 32.249769938152184\n",
      "Iteration 128, the loss is 98.7743277146979, parameters k is -1.4174879562703087 and b is 32.248155568339946\n",
      "Iteration 129, the loss is 98.77167331523844, parameters k is -1.4172648890612947 and b is 32.246541656958755\n",
      "Iteration 130, the loss is 98.76901918158123, parameters k is -1.417039376780409 and b is 32.24492816960862\n",
      "Iteration 131, the loss is 98.76636529199855, parameters k is -1.4168116203109578 and b is 32.24331507470872\n",
      "Iteration 132, the loss is 98.76371162817766, parameters k is -1.4165818040729232 and b is 32.24170234326633\n",
      "Iteration 133, the loss is 98.76105817468233, parameters k is -1.4163500973722096 and b is 32.24008994866477\n",
      "Iteration 134, the loss is 98.75840491850305, parameters k is -1.4161166556393112 and b is 32.23847786646861\n",
      "Iteration 135, the loss is 98.75575184867343, parameters k is -1.4158816215664658 and b is 32.23686607424496\n",
      "Iteration 136, the loss is 98.75309895595062, parameters k is -1.415645126151614 and b is 32.23525455139932\n",
      "Iteration 137, the loss is 98.7504462325434, parameters k is -1.4154072896568002 and b is 32.233643279024946\n",
      "Iteration 138, the loss is 98.74779367188425, parameters k is -1.4151682224880286 and b is 32.232032239764486\n",
      "Iteration 139, the loss is 98.74514126843708, parameters k is -1.4149280260030117 and b is 32.23042141768305\n",
      "Iteration 140, the loss is 98.74248901753526, parameters k is -1.4146867932527185 and b is 32.22881079815159\n",
      "Iteration 141, the loss is 98.73983691524465, parameters k is -1.4144446096621512 and b is 32.227200367739925\n",
      "Iteration 142, the loss is 98.73718495824826, parameters k is -1.4142015536553283 and b is 32.22559011411844\n",
      "Iteration 143, the loss is 98.7345331437503, parameters k is -1.4139576972290464 and b is 32.22398002596792\n",
      "Iteration 144, the loss is 98.73188146939258, parameters k is -1.413713106479622 and b is 32.22237009289674\n",
      "Iteration 145, the loss is 98.7292299331873, parameters k is -1.413467842086462 and b is 32.22076030536483\n",
      "Iteration 146, the loss is 98.7265785334578, parameters k is -1.4132219597560043 and b is 32.219150654613905\n",
      "Iteration 147, the loss is 98.72392726879045, parameters k is -1.4129755106292763 and b is 32.21754113260339\n",
      "Iteration 148, the loss is 98.72127613799209, parameters k is -1.4127285416560509 and b is 32.21593173195158\n",
      "Iteration 149, the loss is 98.71862514005711, parameters k is -1.4124810959383391 and b is 32.21432244588166\n",
      "Iteration 150, the loss is 98.71597427413606, parameters k is -1.4122332130457316 and b is 32.21271326817216\n",
      "Iteration 151, the loss is 98.71332353951296, parameters k is -1.411984929304897 and b is 32.211104193111375\n",
      "Iteration 152, the loss is 98.71067293558269, parameters k is -1.4117362780653542 and b is 32.20949521545564\n",
      "Iteration 153, the loss is 98.7080224618347, parameters k is -1.411487289943464 and b is 32.207886330390956\n",
      "Iteration 154, the loss is 98.70537211783771, parameters k is -1.4112379930464234 and b is 32.206277533497776\n",
      "Iteration 155, the loss is 98.70272190322687, parameters k is -1.410988413177903 and b is 32.20466882071867\n",
      "Iteration 156, the loss is 98.70007181769418, parameters k is -1.4107385740268317 and b is 32.203060188328685\n",
      "Iteration 157, the loss is 98.69742186097918, parameters k is -1.4104884973407104 and b is 32.20145163290803\n",
      "Iteration 158, the loss is 98.69477203286061, parameters k is -1.4102382030847198 and b is 32.19984315131714\n",
      "Iteration 159, the loss is 98.69212233315193, parameters k is -1.4099877095877902 and b is 32.198234740673655\n",
      "Iteration 160, the loss is 98.68947276169447, parameters k is -1.4097370336766997 and b is 32.19662639833137\n",
      "Iteration 161, the loss is 98.68682331835372, parameters k is -1.4094861907991827 and b is 32.19501812186086\n",
      "Iteration 162, the loss is 98.68417400301524, parameters k is -1.4092351951369484 and b is 32.19340990903175\n",
      "Iteration 163, the loss is 98.68152481558154, parameters k is -1.408984059709438 and b is 32.191801757796355\n",
      "Iteration 164, the loss is 98.67887575596977, parameters k is -1.4087327964690777 and b is 32.190193666274745\n",
      "Iteration 165, the loss is 98.67622682410902, parameters k is -1.408481416388725 and b is 32.188585632740974\n",
      "Iteration 166, the loss is 98.6735780199384, parameters k is -1.4082299295419491 and b is 32.18697765561048\n",
      "Iteration 167, the loss is 98.67092934340576, parameters k is -1.4079783451767327 and b is 32.18536973342847\n",
      "Iteration 168, the loss is 98.66828079446621, parameters k is -1.4077266717831312 and b is 32.18376186485933\n",
      "Iteration 169, the loss is 98.66563237308085, parameters k is -1.4074749171553889 and b is 32.18215404867679\n",
      "Iteration 170, the loss is 98.66298407921619, parameters k is -1.407223088448964 and b is 32.18054628375504\n",
      "Iteration 171, the loss is 98.6603359128426, parameters k is -1.4069711922328803 and b is 32.178938569060435\n",
      "Iteration 172, the loss is 98.6576878739348, parameters k is -1.4067192345377872 and b is 32.17733090364398\n",
      "Iteration 173, the loss is 98.65503996246959, parameters k is -1.4064672209000835 and b is 32.17572328663436\n",
      "Iteration 174, the loss is 98.6523921784274, parameters k is -1.406215156402422 and b is 32.174115717231615\n",
      "Iteration 175, the loss is 98.64974452179021, parameters k is -1.405963045710897 and b is 32.17250819470126\n",
      "Iteration 176, the loss is 98.64709699254202, parameters k is -1.405710893109183 and b is 32.17090071836892\n",
      "Iteration 177, the loss is 98.64444959066813, parameters k is -1.4054587025298757 and b is 32.16929328761542\n",
      "Iteration 178, the loss is 98.64180231615612, parameters k is -1.4052064775832642 and b is 32.167685901872254\n",
      "Iteration 179, the loss is 98.63915516899328, parameters k is -1.4049542215837463 and b is 32.16607856061743\n",
      "Iteration 180, the loss is 98.63650814916879, parameters k is -1.4047019375740772 and b is 32.16447126337165\n",
      "Iteration 181, the loss is 98.63386125667216, parameters k is -1.4044496283476327 and b is 32.16286400969484\n",
      "Iteration 182, the loss is 98.63121449149376, parameters k is -1.4041972964688463 and b is 32.16125679918291\n",
      "Iteration 183, the loss is 98.62856785362469, parameters k is -1.4039449442919727 and b is 32.159649631464795\n",
      "Iteration 184, the loss is 98.62592134305604, parameters k is -1.4036925739783126 and b is 32.15804250619978\n",
      "Iteration 185, the loss is 98.6232749597798, parameters k is -1.403440187512026 and b is 32.15643542307499\n",
      "Iteration 186, the loss is 98.62062870378792, parameters k is -1.4031877867146498 and b is 32.15482838180312\n",
      "Iteration 187, the loss is 98.61798257507293, parameters k is -1.4029353732584262 and b is 32.153221382120336\n",
      "Iteration 188, the loss is 98.61533657362722, parameters k is -1.4026829486785368 and b is 32.15161442378434\n",
      "Iteration 189, the loss is 98.61269069944358, parameters k is -1.4024305143843363 and b is 32.15000750657263\n",
      "Iteration 190, the loss is 98.61004495251527, parameters k is -1.4021780716696643 and b is 32.14840063028085\n",
      "Iteration 191, the loss is 98.60739933283516, parameters k is -1.4019256217223126 and b is 32.14679379472132\n",
      "Iteration 192, the loss is 98.60475384039668, parameters k is -1.4016731656327157 and b is 32.145186999721666\n",
      "Iteration 193, the loss is 98.60210847519308, parameters k is -1.40142070440193 and b is 32.14358024512357\n",
      "Iteration 194, the loss is 98.59946323721765, parameters k is -1.4011682389489588 and b is 32.14197353078161\n",
      "Iteration 195, the loss is 98.59681812646409, parameters k is -1.400915770117477 and b is 32.140366856562196\n"
     ]
    },
    {
     "name": "stdout",
     "output_type": "stream",
     "text": [
      "Iteration 196, the loss is 98.59417314292595, parameters k is -1.4006632986820045 and b is 32.13876022234262\n",
      "Iteration 197, the loss is 98.59152828659666, parameters k is -1.4004108253535734 and b is 32.137153628010154\n",
      "Iteration 198, the loss is 98.58888355747003, parameters k is -1.400158350784932 and b is 32.135547073461225\n",
      "Iteration 199, the loss is 98.58623895553976, parameters k is -1.3999058755753206 and b is 32.133940558600685\n"
     ]
    }
   ],
   "source": [
    "#initialized parameters\n",
    "\n",
    "k = random.random() * 200 - 100  # -100 100\n",
    "b = random.random() * 200 - 100  # -100 100\n",
    "\n",
    "learning_rate = 1e-3\n",
    "\n",
    "iteration_num = 200 \n",
    "losses = []\n",
    "for i in range(iteration_num):\n",
    "    \n",
    "    price_use_current_parameters = [price(r, k, b) for r in X_rm]  # \\hat{y}\n",
    "    \n",
    "    current_loss = loss(y, price_use_current_parameters)\n",
    "    losses.append(current_loss)\n",
    "    print(\"Iteration {}, the loss is {}, parameters k is {} and b is {}\".format(i,current_loss,k,b))\n",
    "    \n",
    "    k_gradient = partial_derivative_k(X_rm, y, price_use_current_parameters)\n",
    "    b_gradient = partial_derivative_b(y, price_use_current_parameters)\n",
    "    \n",
    "    k = k + (-1 * k_gradient) * learning_rate\n",
    "    b = b + (-1 * b_gradient) * learning_rate\n",
    "best_k = k\n",
    "best_b = b"
   ]
  },
  {
   "cell_type": "code",
   "execution_count": 94,
   "metadata": {},
   "outputs": [
    {
     "data": {
      "text/plain": [
       "[<matplotlib.lines.Line2D at 0x1c7931db160>]"
      ]
     },
     "execution_count": 94,
     "metadata": {},
     "output_type": "execute_result"
    },
    {
     "data": {
      "image/png": "[encoded data removed]",
      "text/plain": [
       "<Figure size 432x288 with 1 Axes>"
      ]
     },
     "metadata": {
      "needs_background": "light"
     },
     "output_type": "display_data"
    }
   ],
   "source": [
    "plt.plot(list(range(iteration_num)),losses)"
   ]
  },
  {
   "cell_type": "code",
   "execution_count": 95,
   "metadata": {},
   "outputs": [
    {
     "data": {
      "text/plain": [
       "<matplotlib.collections.PathCollection at 0x1c7931308d0>"
      ]
     },
     "execution_count": 95,
     "metadata": {},
     "output_type": "execute_result"
    },
    {
     "data": {
      "image/png": "[encoded data removed]",
      "text/plain": [
       "<Figure size 432x288 with 1 Axes>"
      ]
     },
     "metadata": {
      "needs_background": "light"
     },
     "output_type": "display_data"
    }
   ],
   "source": [
    "price_use_best_parameters = [price(r, best_k, best_b) for r in X_rm]\n",
    "\n",
    "plt.scatter(X_rm,y)\n",
    "plt.scatter(X_rm,price_use_current_parameters)"
   ]
  },
  {
   "cell_type": "code",
   "execution_count": null,
   "metadata": {},
   "outputs": [],
   "source": []
  }
 ],
 "metadata": {
  "kernelspec": {
   "display_name": "Python 3",
   "language": "python",
   "name": "python3"
  },
  "language_info": {
   "codemirror_mode": {
    "name": "ipython",
    "version": 3
   },
   "file_extension": ".py",
   "mimetype": "text/x-python",
   "name": "python",
   "nbconvert_exporter": "python",
   "pygments_lexer": "ipython3",
   "version": "3.6.8"
  },
  "toc": {
   "base_numbering": 1,
   "nav_menu": {},
   "number_sections": true,
   "sideBar": true,
   "skip_h1_title": false,
   "title_cell": "Table of Contents",
   "title_sidebar": "Contents",
   "toc_cell": false,
   "toc_position": {},
   "toc_section_display": true,
   "toc_window_display": false
  }
 },
 "nbformat": 4,
 "nbformat_minor": 2
}
