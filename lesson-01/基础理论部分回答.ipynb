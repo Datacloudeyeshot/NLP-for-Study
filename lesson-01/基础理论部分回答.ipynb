{
 "cells": [
  {
   "cell_type": "markdown",
   "metadata": {},
   "source": [
    "#  基础理论部分\n",
    "\n",
    "###  0. Can you come up out 3 sceneraies which use AI methods?\n",
    "Ans: 1、语音对话机器人\n",
    "     2、舆论信息的态势分析\n",
    "     3、图片信息识别\n",
    "\n",
    "###  1. How do we use Github; Why do we use Jupyter and Pycharm;\n",
    "Ans: 1、使用GitHub可以更加方便的管理我们的代码库，控制版本，代码开源，加速传播与学习；\n",
    "     2、使用Jupyter可以更加方便的理解代码实现的每一步，更加方便理解与演示；\n",
    "     3、使用Pycharm可以进行大型的Python项目开发，是一个集成度较高的IED工具\n",
    "\n",
    "###  2. What's the Probability Model?\n",
    "Ans:概率模型是指需要学习的模型是一个概率分布模型，例如逻辑斯特回归，目的是学习一个Y|X=x的条件概率分布模型; 而非概率模型学习的目标是一个普通的函数而已，例如线性支持向量机，目的是学习一个线性函数。\n",
    "\n",
    "###  3. Can you came up with some sceneraies at which we could use Probability Model?\n",
    "Ans: 1、棋牌类的游戏\n",
    "     2、天气预测\n",
    "     3、路径选择\n",
    "\n",
    "###  4. Why do we use probability and what's the difficult points for programming based on parsing and pattern match?\n",
    "Ans: 1、概率法则告诉我们AI系统如何推理，据此我们设计一些算法来计算或估算由概率论导出的表达式。\n",
    "     2、我们可以用概率和统计从理论上分析我们提出的AI系统的行为。\n",
    "     3、概率论使我们能够作出不确定的声明以及在不确定性存在的情况下进行推理\n",
    "     4、对于解析和模式匹配的编程难点我还需要在今后的学习中逐步了解\n",
    "\n",
    "###  5. What's the Language Model;\n",
    "Ans: 1、语言模型是对一段文本的概率进行的估计\n",
    "     2、比如一段文字有w1,w2,w3...,wmw1,w2,w3...,wm这m个词组成，看看是不是一句话，就可以用下面的公式计算其联合概率：\n",
    "P(w1,w2,w3...,wm)=P(w2|w1)P(w3|w1,w2)...P(wm|w1,w2,...wm−1)\n",
    "\n",
    "###  6. Can you came up with some sceneraies at which we could use Language Model?\n",
    "Ans: 1、对话机器人的实现\n",
    "     2、多国语言之间的翻译\n",
    "     3、语音的识别\n",
    "\n",
    "###  7. What's the 1-gram language model;\n",
    "Ans: 1、通过切割文本句子及单词得到每个单词出现的概率\n",
    "     2、通过单词出现的概率生成概率最高的句子\n",
    "\n",
    "###  8. What's the disadvantages and advantages of 1-gram language model;\n",
    "Ans: 1、优点：已于构造新的文本句子\n",
    "     2、缺点：文本单词之间的关联度太低\n",
    "\n",
    "\n",
    "###  9. What't the 2-gram models;\n",
    "Ans: 1、2-gram的思想是将文本中所有相邻的两个汉子作为索引项，这样签一个索引项的后一个字与下一个索引项的前一个字是相同的。\n",
    "     2、2-gram与字索引相比有较高的检索效率。\n",
    "     3、2-gram课直接获得词条的频度。\n",
    "     4、与词索引相比，2-gram避免了词表维护，因此也避免了未登录词处理、语法词表使用、语义表示、歧义处理等问题。"
   ]
  }
 ],
 "metadata": {
  "kernelspec": {
   "display_name": "Python 3",
   "language": "python",
   "name": "python3"
  },
  "language_info": {
   "codemirror_mode": {
    "name": "ipython",
    "version": 3
   },
   "file_extension": ".py",
   "mimetype": "text/x-python",
   "name": "python",
   "nbconvert_exporter": "python",
   "pygments_lexer": "ipython3",
   "version": "3.6.8"
  },
  "toc": {
   "base_numbering": 1,
   "nav_menu": {},
   "number_sections": true,
   "sideBar": true,
   "skip_h1_title": false,
   "title_cell": "Table of Contents",
   "title_sidebar": "Contents",
   "toc_cell": false,
   "toc_position": {},
   "toc_section_display": true,
   "toc_window_display": false
  }
 },
 "nbformat": 4,
 "nbformat_minor": 2
}
