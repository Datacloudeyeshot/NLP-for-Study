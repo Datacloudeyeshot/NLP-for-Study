{
 "cells": [
  {
   "cell_type": "markdown",
   "metadata": {},
   "source": [
    "## 在西部世界里，一个“人类”的语言可以定义为："
   ]
  },
  {
   "cell_type": "code",
   "execution_count": 2,
   "metadata": {},
   "outputs": [],
   "source": [
    "human = \"\"\"\n",
    "human = 自己 寻找 活动\n",
    "自己 = 我 | 俺 | 我们 \n",
    "寻找 = 看看 | 找找 | 想找点\n",
    "活动 = 乐子 | 玩的\n",
    "\"\"\""
   ]
  },
  {
   "cell_type": "markdown",
   "metadata": {},
   "source": [
    "## 一个“接待员”的语言可以定义为"
   ]
  },
  {
   "cell_type": "code",
   "execution_count": 3,
   "metadata": {},
   "outputs": [],
   "source": [
    "host = \"\"\"\n",
    "host = 寒暄 报数 询问 业务相关 结尾 \n",
    "报数 = 我是 数字 号 ,\n",
    "数字 = 单个数字 | 数字 单个数字 \n",
    "单个数字 = 1 | 2 | 3 | 4 | 5 | 6 | 7 | 8 | 9 \n",
    "寒暄 = 称谓 打招呼 | 打招呼\n",
    "称谓 = 人称 ,\n",
    "人称 = 先生 | 女士 | 小朋友\n",
    "打招呼 = 你好 | 您好 \n",
    "询问 = 请问你要 | 您需要\n",
    "业务相关 = 玩玩 具体业务\n",
    "玩玩 = 耍一耍 | 玩一玩\n",
    "具体业务 = 喝酒 | 打牌 | 打猎 | 赌博\n",
    "结尾 = 吗？\"\"\""
   ]
  },
  {
   "cell_type": "markdown",
   "metadata": {},
   "source": [
    "## 使用随机库"
   ]
  },
  {
   "cell_type": "code",
   "execution_count": 5,
   "metadata": {},
   "outputs": [],
   "source": [
    "import random"
   ]
  },
  {
   "cell_type": "markdown",
   "metadata": {},
   "source": [
    "## 清洗数据"
   ]
  },
  {
   "cell_type": "code",
   "execution_count": 12,
   "metadata": {},
   "outputs": [],
   "source": [
    "def get_generation_by_gram(grammar_str, target, stmt_split='=', or_split='|'):\n",
    "    rules = dict()  #数据用字典存储，对象为字典\n",
    "    for line in grammar_str.split('\\n'):\n",
    "        if not line: continue\n",
    "#         使单词分开\n",
    "        stmt, expression = line.split(stmt_split)   \n",
    "#         去除单词后的空格\n",
    "        rules[stmt.strip()] = expression.split(or_split)\n",
    "        generated = generate (rules, target = target)\n",
    "    return generated    "
   ]
  },
  {
   "cell_type": "markdown",
   "metadata": {},
   "source": [
    "## 依据语法生成一句话"
   ]
  },
  {
   "cell_type": "code",
   "execution_count": 16,
   "metadata": {},
   "outputs": [],
   "source": [
    "def generate(grammar_rule, target):\n",
    "    if target in grammar_rule: \n",
    "#         取得对应的数据集grammer_rule\n",
    "        words = grammar_rule[target] \n",
    "#     依据语法随机生成一句话\n",
    "        word = random.choice(words) \n",
    "        return ''.join(generate(grammar_rule, target=c.strip()) for c in word.split()) #去掉首尾空格\n",
    "    else:\n",
    "        return target"
   ]
  },
  {
   "cell_type": "markdown",
   "metadata": {},
   "source": [
    "## 产生对话效果"
   ]
  },
  {
   "cell_type": "code",
   "execution_count": 17,
   "metadata": {},
   "outputs": [
    {
     "name": "stdout",
     "output_type": "stream",
     "text": [
      "我找找乐子\n",
      "女士,您好我是26号,请问你要玩一玩赌博吗？\n",
      "我找找玩的\n",
      "先生,你好我是949号,您需要耍一耍喝酒吗？\n",
      "我想找点玩的\n",
      "你好我是2号,请问你要玩一玩打猎吗？\n",
      "我找找玩的\n",
      "小朋友,您好我是1号,请问你要耍一耍打猎吗？\n",
      "我们找找玩的\n",
      "小朋友,你好我是4号,您需要玩一玩打牌吗？\n",
      "我们想找点玩的\n",
      "女士,您好我是2号,请问你要耍一耍打牌吗？\n",
      "我找找乐子\n",
      "您好我是5号,请问你要玩一玩打猎吗？\n",
      "俺找找乐子\n",
      "你好我是786467号,请问你要玩一玩喝酒吗？\n",
      "我们看看乐子\n",
      "你好我是4号,您需要玩一玩赌博吗？\n",
      "我想找点玩的\n",
      "你好我是185号,请问你要玩一玩打牌吗？\n"
     ]
    }
   ],
   "source": [
    "for i in range(10):\n",
    "    print(get_generation_by_gram(human,target='human'))\n",
    "    print(get_generation_by_gram(host,target='host'))    "
   ]
  }
 ],
 "metadata": {
  "kernelspec": {
   "display_name": "Python 3",
   "language": "python",
   "name": "python3"
  },
  "language_info": {
   "codemirror_mode": {
    "name": "ipython",
    "version": 3
   },
   "file_extension": ".py",
   "mimetype": "text/x-python",
   "name": "python",
   "nbconvert_exporter": "python",
   "pygments_lexer": "ipython3",
   "version": "3.6.8"
  },
  "toc": {
   "base_numbering": 1,
   "nav_menu": {},
   "number_sections": true,
   "sideBar": true,
   "skip_h1_title": false,
   "title_cell": "Table of Contents",
   "title_sidebar": "Contents",
   "toc_cell": false,
   "toc_position": {},
   "toc_section_display": true,
   "toc_window_display": false
  }
 },
 "nbformat": 4,
 "nbformat_minor": 2
}
